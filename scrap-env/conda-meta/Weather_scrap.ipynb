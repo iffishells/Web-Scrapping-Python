{
 "cells": [
  {
   "cell_type": "code",
   "execution_count": 165,
   "metadata": {},
   "outputs": [],
   "source": [
    "from bs4 import BeautifulSoup\n",
    "import requests ,lxml ,html5lib\n",
    "import pandas as pd\n",
    "src = requests.get(\"https://forecast.weather.gov/MapClick.php?lat=-14.30068805999997&lon=-170.71811612199997\").text\n",
    "soup = BeautifulSoup(src,\"lxml\")\n",
    "\n",
    "\n",
    "container = soup.find(\"div\",class_=\"panel-body\")\n",
    "# print(container.prettify())\n",
    "\n",
    "further_Detail = soup.find(\"div\",id=\"current_conditions_detail\")\n",
    "table_value = further_Detail.find(\"table\").find_all(\"td\")\n",
    "\n",
    "len_table = len(table_value)\n",
    "Database = {}\n",
    "\n",
    "for count in range(0,len_table-1):\n",
    "    if count%2==0:\n",
    "        Database[table_value[count].text] = table_value[count+1].text \n",
    "\n",
    "status = container.find(\"p\",class_=\"myforecast-current\").text\n",
    "Database[\"status\"]=status\n",
    "temp_in_F = container.find(\"p\",class_=\"myforecast-current-lrg\").text\n",
    "# print(temp_in_F)\n",
    "Database[\"temp_in_F\"]=temp_in_F\n",
    "\n",
    "temp_in_C = container.find(\"p\",class_=\"myforecast-current-sm\").text\n",
    "# print(temp_in_C)\n",
    "Database[\"temp_in_C\"]=temp_in_C\n",
    "\n"
   ]
  },
  {
   "cell_type": "code",
   "execution_count": 170,
   "metadata": {},
   "outputs": [],
   "source": [
    "Wheather_Data=pd.DataFrame(Database,index =[2])\n"
   ]
  },
  {
   "cell_type": "code",
   "execution_count": 171,
   "metadata": {},
   "outputs": [],
   "source": [
    "Wheather_Data.to_csv(\"Data.csv\")"
   ]
  },
  {
   "cell_type": "code",
   "execution_count": 172,
   "metadata": {},
   "outputs": [
    {
     "data": {
      "text/plain": [
       "{'Humidity': '84%',\n",
       " 'Wind Speed': 'Vrbl 5 mph',\n",
       " 'Barometer': '29.80 in (1009.1 mb)',\n",
       " 'Dewpoint': '78°F (26°C)',\n",
       " 'Visibility': '12.00 mi',\n",
       " 'Heat Index': '93°F (34°C)',\n",
       " 'Last update': '\\n            14 Feb 6:50 pm SST        ',\n",
       " 'status': 'Partly Cloudy',\n",
       " 'temp_in_F': '83°F',\n",
       " 'temp_in_C': '28°C'}"
      ]
     },
     "execution_count": 172,
     "metadata": {},
     "output_type": "execute_result"
    }
   ],
   "source": [
    "Database\n"
   ]
  },
  {
   "cell_type": "code",
   "execution_count": null,
   "metadata": {},
   "outputs": [],
   "source": []
  }
 ],
 "metadata": {
  "kernelspec": {
   "display_name": "Python 3",
   "language": "python",
   "name": "python3"
  },
  "language_info": {
   "codemirror_mode": {
    "name": "ipython",
    "version": 3
   },
   "file_extension": ".py",
   "mimetype": "text/x-python",
   "name": "python",
   "nbconvert_exporter": "python",
   "pygments_lexer": "ipython3",
   "version": "3.8.3"
  }
 },
 "nbformat": 4,
 "nbformat_minor": 4
}
