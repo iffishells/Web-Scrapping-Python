{
 "cells": [
  {
   "cell_type": "code",
   "execution_count": 1,
   "metadata": {},
   "outputs": [],
   "source": [
    "# !pip install beautifulsoup4\n",
    "# "
   ]
  },
  {
   "cell_type": "code",
   "execution_count": 2,
   "metadata": {},
   "outputs": [],
   "source": [
    "# !pip install requests"
   ]
  },
  {
   "cell_type": "markdown",
   "metadata": {},
   "source": [
    "# Scrapped Data from coresms webesites"
   ]
  },
  {
   "cell_type": "code",
   "execution_count": 155,
   "metadata": {},
   "outputs": [],
   "source": [
    "from bs4 import BeautifulSoup\n",
    "import requests ,lxml ,html5lib\n",
    "import pandas as pd\n",
    "src = requests.get(\"https://coreyms.com/\").text\n",
    "soup = BeautifulSoup(src,\"lxml\")\n",
    "# print(soup.prettify())\n"
   ]
  },
  {
   "cell_type": "code",
   "execution_count": 166,
   "metadata": {},
   "outputs": [
    {
     "data": {
      "text/plain": [
       "{'article_title': ['Python Tutorial: Zip Files – Creating and Extracting Zip Archives',\n",
       "  'Python Data Science Tutorial: Analyzing the 2019 Stack Overflow Developer Survey',\n",
       "  'Python Multiprocessing Tutorial: Run Code in Parallel Using the Multiprocessing Module',\n",
       "  'Python Threading Tutorial: Run Code Concurrently Using the Threading Module',\n",
       "  'Update (2019-09-03)',\n",
       "  'Python Quick Tip: The Difference Between “==” and “is” (Equality vs Identity)',\n",
       "  'Python Tutorial: Calling External Commands Using the Subprocess Module',\n",
       "  'Visual Studio Code (Windows) – Setting up a Python Development Environment and Complete Overview',\n",
       "  'Visual Studio Code (Mac) – Setting up a Python Development Environment and Complete Overview',\n",
       "  'Clarifying the Issues with Mutable Default Arguments'],\n",
       " 'summary': ['\\nIn this video, we will be learning how to create and extract zip archives. We will start by using the zipfile module, and then we will see how to do this using the shutil module. We will learn how to do this with single files and directories, as well as learning how to use gzip as well. Let’s get started…\\n\\n',\n",
       "  '\\nIn this Python Programming video, we will be learning how to download and analyze real-world data from the 2019 Stack Overflow Developer Survey. This is terrific practice for anyone getting into the data science field. We will learn different ways to analyze this data and also some best practices. Let’s get started…\\n\\n\\n\\n',\n",
       "  '\\nIn this Python Programming video, we will be learning how to run code in parallel using the multiprocessing module. We will also look at how to process multiple high-resolution images at the same time using a ProcessPoolExecutor from the concurrent.futures module. Let’s get started…\\n\\n\\n\\n',\n",
       "  '\\nIn this Python Programming video, we will be learning how to run threads concurrently using the threading module. We will also look at how to download multiple high-resolution images online using a ThreadPoolExecutor from the concurrent.futures module. Let’s get started…\\n\\n\\n\\n',\n",
       "  '\\nHey everyone. I wanted to give you an update on my videos. I will be releasing videos on threading and multiprocessing within the next week. Thanks so much for your patience. I currently have a temporary recording studio setup at my Airbnb that will allow me to record and edit the threading/multiprocessing videos. I am going to be moving into my new house in 10 days and once I have my recording studio setup then you can expect much faster video releases. I really appreciate how patient everyone has been while I go through this move, especially those of you who are contributing monthly through YouTube \\n',\n",
       "  '\\nIn this Python Programming Tutorial, we will be learning the difference between using “==” and the “is” keyword when doing comparisons. The difference between these is that “==” checks to see if values are equal, and the “is” keyword checks their identity, which means it’s going to check if the values are identical in terms of being the same object in memory. We’ll learn more in the video. Let’s get started…\\n\\n\\n\\n',\n",
       "  '\\nIn this Python Programming Tutorial, we will be learning how to run external commands using the subprocess module from the standard library. We will learn how to run commands, capture the output, handle errors, and also how to pipe output into other commands. Let’s get started…\\n\\n\\n\\n',\n",
       "  '\\nIn this Python Programming Tutorial, we will be learning how to set up a Python development environment in VSCode on Windows. VSCode is a very nice free editor for writing Python applications and many developers are now switching over to this editor. In this video, we will learn how to install VSCode, get the Python extension installed, how to change Python interpreters, create virtual environments, format/lint our code, how to use Git within VSCode, how to debug our programs, how unit testing works, and more. We have a lot to cover, so let’s go ahead and get started…\\nVSCode on MacOS – https://youtu.be/06I63_p-2A4\\nTimestamps for topics in this tutorial: Installation – 1:13 Python Extension – 5:48 Switching Interpreters – 10:04 Changing Color Themes – 12:35 VSCode Settings – 16:16 Set Default Python – 21:33 Using Virtual Environments – 25:10 IntelliSense – 29:45 Code Formatting – 32:13 Code Linting – 37:06 Code Runner Extension – 39:42 Git Integration – 47:44 Use Different Terminal – 51:07 Debugging – 58:45 Unit Testing – 1:03:25 Zen Mode – 1:09:55\\n\\n\\n\\n',\n",
       "  '\\nIn this Python Programming Tutorial, we will be learning how to set up a Python development environment in VSCode on MacOS. VSCode is a very nice free editor for writing Python applications and many developers are now switching over to this editor. In this video, we will learn how to install VSCode, get the Python extension installed, how to change Python interpreters, create virtual environments, format/lint our code, how to use Git within VSCode, how to debug our programs, how unit testing works, and more. We have a lot to cover, so let’s go ahead and get started…\\nVSCode on Windows – https://youtu.be/-nh9rCzPJ20\\nTimestamps for topics in this tutorial: Installation – 1:11 Python Extension – 6:21 Switching Interpreters – 10:16 Changing Color Themes – 13:08 VSCode Settings – 17:12 Set Default Python – 22:24 Using Virtual Environments – 25:52 IntelliSense – 30:28 Code Formatting – 33:08 Code Linting – 38:01 Code Runner Extension – 40:45 Git Integration – 49:05 Debugging – 58:15 Unit Testing – 1:02:38 Zen Mode – 1:10:42 \\n\\n\\n\\n',\n",
       "  '\\nIn this Python Programming Tutorial, we will be clarifying the issues with mutable default arguments. We discussed this in my last video titled “5 Common Python Mistakes and How to Fix Them”, but I received many comments from people who were still confused. So we will be doing a deeper dive to explain exactly what is going on here. Let’s get started…\\n\\n\\n\\n'],\n",
       " 'ytb_link': ['https://youtube.com/watch?v=z0gguhEmWiY',\n",
       "  'https://youtube.com/watch?v=_P7X8tMplsw',\n",
       "  'https://youtube.com/watch?v=fKl2JW_qrso',\n",
       "  'https://youtube.com/watch?v=IEEhzQoKtQU',\n",
       "  None,\n",
       "  'https://youtube.com/watch?v=mO_dS3rXDIs',\n",
       "  'https://youtube.com/watch?v=2Fp1N6dof0Y',\n",
       "  'https://youtube.com/watch?v=-nh9rCzPJ20',\n",
       "  'https://youtube.com/watch?v=06I63_p-2A4',\n",
       "  'https://youtube.com/watch?v=_JGmemuINww']}"
      ]
     },
     "execution_count": 166,
     "metadata": {},
     "output_type": "execute_result"
    }
   ],
   "source": [
    "Feedback = {\n",
    "    \"article_title\" :  [],\n",
    "    \"summary\" : [],\n",
    "    \"ytb_link\" :  []\n",
    "}\n",
    "for article in soup.find_all('article'):\n",
    "# print(article)\n",
    "\n",
    "    article_title =article.header.h2.text\n",
    "#     print(article_title)\n",
    "    Feedback[\"article_title\"].append(article_title)\n",
    "\n",
    "    for article_summary in article.find_all('div',class_=\"entry-content\"):\n",
    "        summary = article_summary.text\n",
    "        Feedback[\"summary\"].append(summary)\n",
    "    try:\n",
    "        ytb_link = article.find(\"iframe\",\"youtube-player\")[\"src\"]\n",
    "        ytb_id = ytb_link.split(\"/\")[4]\n",
    "        ytb_id = ytb_id.split(\"?\")[0]\n",
    "        youtube_video_link = f\"https://youtube.com/watch?v={ytb_id}\"\n",
    "        Feedback[\"ytb_link\"].append(youtube_video_link)\n",
    "    except:\n",
    "        youtube_video_link = None\n",
    "        Feedback[\"ytb_link\"].append(youtube_video_link)\n",
    "        \n",
    "    \n",
    "#     print(youtube_video_link)\n",
    "\n",
    "Feedback"
   ]
  },
  {
   "cell_type": "code",
   "execution_count": 165,
   "metadata": {},
   "outputs": [
    {
     "name": "stdout",
     "output_type": "stream",
     "text": [
      "  titile                                            summary Link\n",
      "0    NaN  \\nIn this video, we will be learning how to cr...  NaN\n",
      "1    NaN  \\nIn this Python Programming video, we will be...  NaN\n",
      "2    NaN  \\nIn this Python Programming video, we will be...  NaN\n",
      "3    NaN  \\nIn this Python Programming video, we will be...  NaN\n",
      "4    NaN  \\nHey everyone. I wanted to give you an update...  NaN\n",
      "5    NaN  \\nIn this Python Programming Tutorial, we will...  NaN\n",
      "6    NaN  \\nIn this Python Programming Tutorial, we will...  NaN\n",
      "7    NaN  \\nIn this Python Programming Tutorial, we will...  NaN\n",
      "8    NaN  \\nIn this Python Programming Tutorial, we will...  NaN\n",
      "9    NaN  \\nIn this Python Programming Tutorial, we will...  NaN\n"
     ]
    }
   ],
   "source": [
    "Data  = pd.DataFrame(Feedback, columns=['titile', 'summary' , \"Link\"])\n",
    "\n",
    "print(Data)"
   ]
  },
  {
   "cell_type": "code",
   "execution_count": 154,
   "metadata": {},
   "outputs": [
    {
     "name": "stdout",
     "output_type": "stream",
     "text": [
      "Requirement already satisfied: pandas in /home/iffishells/anaconda3/lib/python3.8/site-packages (1.0.5)\n",
      "Requirement already satisfied: numpy>=1.13.3 in /home/iffishells/anaconda3/lib/python3.8/site-packages (from pandas) (1.18.5)\n",
      "Requirement already satisfied: python-dateutil>=2.6.1 in /home/iffishells/anaconda3/lib/python3.8/site-packages (from pandas) (2.8.1)\n",
      "Requirement already satisfied: pytz>=2017.2 in /home/iffishells/anaconda3/lib/python3.8/site-packages (from pandas) (2020.1)\n",
      "Requirement already satisfied: six>=1.5 in /home/iffishells/anaconda3/lib/python3.8/site-packages (from python-dateutil>=2.6.1->pandas) (1.15.0)\n"
     ]
    }
   ],
   "source": []
  },
  {
   "cell_type": "code",
   "execution_count": null,
   "metadata": {},
   "outputs": [],
   "source": []
  }
 ],
 "metadata": {
  "kernelspec": {
   "display_name": "Python 3",
   "language": "python",
   "name": "python3"
  },
  "language_info": {
   "codemirror_mode": {
    "name": "ipython",
    "version": 3
   },
   "file_extension": ".py",
   "mimetype": "text/x-python",
   "name": "python",
   "nbconvert_exporter": "python",
   "pygments_lexer": "ipython3",
   "version": "3.8.3"
  }
 },
 "nbformat": 4,
 "nbformat_minor": 4
}
