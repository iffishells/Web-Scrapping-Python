{
 "cells": [
  {
   "cell_type": "code",
   "execution_count": 7,
   "metadata": {},
   "outputs": [],
   "source": [
    "from bs4 import BeautifulSoup\n",
    "import requests ,lxml ,html5lib\n",
    "import pandas as pd\n",
    "src = requests.get(\"https://forecast.weather.gov/MapClick.php?lat=-14.30068805999997&lon=-170.71811612199997\").text\n",
    "soup = BeautifulSoup(src,\"lxml\")\n"
   ]
  },
  {
   "cell_type": "code",
   "execution_count": 9,
   "metadata": {},
   "outputs": [],
   "source": [
    "# print(soup.prettify())\n",
    "#"
   ]
  },
  {
   "cell_type": "code",
   "execution_count": 126,
   "metadata": {},
   "outputs": [
    {
     "name": "stdout",
     "output_type": "stream",
     "text": [
      "14\n"
     ]
    },
    {
     "ename": "TypeError",
     "evalue": "'int' object is not iterable",
     "output_type": "error",
     "traceback": [
      "\u001b[0;31m---------------------------------------------------------------------------\u001b[0m",
      "\u001b[0;31mTypeError\u001b[0m                                 Traceback (most recent call last)",
      "\u001b[0;32m<ipython-input-126-b99bde516321>\u001b[0m in \u001b[0;36m<module>\u001b[0;34m\u001b[0m\n\u001b[1;32m     19\u001b[0m \u001b[0mDatabase\u001b[0m \u001b[0;34m=\u001b[0m \u001b[0;34m{\u001b[0m\u001b[0;34m}\u001b[0m\u001b[0;34m\u001b[0m\u001b[0;34m\u001b[0m\u001b[0m\n\u001b[1;32m     20\u001b[0m \u001b[0;34m\u001b[0m\u001b[0m\n\u001b[0;32m---> 21\u001b[0;31m \u001b[0;32mfor\u001b[0m \u001b[0mcount\u001b[0m \u001b[0;32min\u001b[0m \u001b[0mlen\u001b[0m\u001b[0;34m(\u001b[0m\u001b[0mtable_value\u001b[0m\u001b[0;34m)\u001b[0m\u001b[0;34m:\u001b[0m\u001b[0;34m\u001b[0m\u001b[0;34m\u001b[0m\u001b[0m\n\u001b[0m\u001b[1;32m     22\u001b[0m     \u001b[0mDatabase\u001b[0m\u001b[0;34m[\u001b[0m\u001b[0mtable_value\u001b[0m\u001b[0;34m[\u001b[0m\u001b[0mcount\u001b[0m\u001b[0;34m]\u001b[0m\u001b[0;34m]\u001b[0m \u001b[0;34m=\u001b[0m \u001b[0mtable_value\u001b[0m\u001b[0;34m[\u001b[0m\u001b[0mcount\u001b[0m\u001b[0;34m+\u001b[0m\u001b[0;36m1\u001b[0m\u001b[0;34m]\u001b[0m\u001b[0;34m\u001b[0m\u001b[0;34m\u001b[0m\u001b[0m\n\u001b[1;32m     23\u001b[0m \u001b[0;31m#     print(cond_temp.text)\u001b[0m\u001b[0;34m\u001b[0m\u001b[0;34m\u001b[0m\u001b[0;34m\u001b[0m\u001b[0m\n",
      "\u001b[0;31mTypeError\u001b[0m: 'int' object is not iterable"
     ]
    }
   ],
   "source": [
    "container = soup.find(\"div\",class_=\"panel-body\")\n",
    "# print(container.prettify())\n",
    "status = container.find(\"p\",class_=\"myforecast-current\").text\n",
    "# print(status)\n",
    "temp_in_F = container.find(\"p\",class_=\"myforecast-current-lrg\").text\n",
    "# print(temp_in_F)\n",
    "\n",
    "temp_in_C = container.find(\"p\",class_=\"myforecast-current-sm\").text\n",
    "# print(temp_in_C)\n",
    "\n",
    "further_Detail = soup.find(\"div\",id=\"current_conditions_detail\")\n",
    "# print(further_Detail)\n",
    "# table_key = further_Detail.find(\"table\").find_all(\"td\",class_=\"text-right\")\n",
    "table_value = further_Detail.find(\"table\").find_all(\"td\")\n",
    "\n",
    "# print(table_value)\n",
    "len_table = len(table_value))\n",
    "# print(type(table_value))\n",
    "Database = {}\n",
    "\n",
    "for count in (table_value):\n",
    "    Database[table_value[count]] = table_value[count+1] \n",
    "#     print(cond_temp.text)\n",
    "#     pass\n",
    "\n",
    "# humidity = further_Detail.find(\"td\" ,class_=\"text-right\").text\n",
    "# print(humidity)\n"
   ]
  },
  {
   "cell_type": "code",
   "execution_count": 123,
   "metadata": {},
   "outputs": [
    {
     "data": {
      "text/plain": [
       "{'Humidity': None,\n",
       " '80%': None,\n",
       " 'Wind Speed': None,\n",
       " 'Vrbl 5 mph': None,\n",
       " 'Barometer': None,\n",
       " '29.78 in (1008.5 mb)': None,\n",
       " 'Dewpoint': None,\n",
       " '78°F (26°C)': None,\n",
       " 'Visibility': None,\n",
       " '12.00 mi': None,\n",
       " 'Heat Index': None,\n",
       " '97°F (36°C)': None,\n",
       " 'Last update': None,\n",
       " '\\n            14 Feb 5:50 pm SST        ': None}"
      ]
     },
     "execution_count": 123,
     "metadata": {},
     "output_type": "execute_result"
    }
   ],
   "source": [
    "Database\n"
   ]
  },
  {
   "cell_type": "code",
   "execution_count": null,
   "metadata": {},
   "outputs": [],
   "source": []
  }
 ],
 "metadata": {
  "kernelspec": {
   "display_name": "Python 3",
   "language": "python",
   "name": "python3"
  },
  "language_info": {
   "codemirror_mode": {
    "name": "ipython",
    "version": 3
   },
   "file_extension": ".py",
   "mimetype": "text/x-python",
   "name": "python",
   "nbconvert_exporter": "python",
   "pygments_lexer": "ipython3",
   "version": "3.8.3"
  }
 },
 "nbformat": 4,
 "nbformat_minor": 4
}
