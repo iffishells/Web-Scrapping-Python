{
 "cells": [
  {
   "cell_type": "code",
   "execution_count": 6,
   "id": "32e89488-c2fd-490e-b2d8-663f6377f24f",
   "metadata": {},
   "outputs": [],
   "source": [
    "## 1- hit the target producot \n",
    "# 2 - select the features you are selecting\n",
    "# 3 - make the code automate"
   ]
  },
  {
   "cell_type": "code",
   "execution_count": 48,
   "id": "cb44c141-5f77-41d5-88c6-3b59ac356cfa",
   "metadata": {},
   "outputs": [],
   "source": [
    "# import relevevnt lub\n",
    "import numpy as np\n",
    "import pandas as pd\n",
    "from bs4 import BeautifulSoup\n",
    "import requests\n",
    "import selenium\n",
    "from selenium import webdriver\n",
    "import time"
   ]
  },
  {
   "cell_type": "code",
   "execution_count": 49,
   "id": "a18608f4-0195-4d42-9a8d-f3c2081fe0f4",
   "metadata": {},
   "outputs": [],
   "source": [
    "\n",
    "link = \"https://www.ebay.com/b/Apple-iPhone-11/9355/bn_7116334163?rt=nc&_pgn=1\"\n",
    "result =  requests.get(link)\n",
    "\n",
    "if result.status_code ==200:\n",
    "    \n",
    "    soup = BeautifulSoup(result.content,'html.parser')\n",
    "else:\n",
    "    print(\"Request Denied\")"
   ]
  },
  {
   "cell_type": "code",
   "execution_count": 50,
   "id": "3b33c5fc-0149-4aba-8833-5a37ae0647a8",
   "metadata": {},
   "outputs": [
    {
     "name": "stdout",
     "output_type": "stream",
     "text": [
      "<title>Apple iPhone 11 for Sale - eBay</title>\n"
     ]
    }
   ],
   "source": [
    "# soup.prettify()\n",
    "print(soup.title)\n",
    "# soup"
   ]
  },
  {
   "cell_type": "code",
   "execution_count": 51,
   "id": "7f5d3a67-e413-4258-9943-c1dc88937e90",
   "metadata": {},
   "outputs": [
    {
     "name": "stdout",
     "output_type": "stream",
     "text": [
      "Box :  SPONSOREDApple iPhone 11, 11 Pro, 11 Pro Max 64GB 128GB 256GB 512GB - All Colour & Grades5 out of 5 stars(27)27 product ratings - Apple iPhone 11, 11 Pro, 11 Pro Max 64GB 128GB 256GB 512GB - All Colour & Grades$551.48 to $964.76$56.78 shipping7 sold\n",
      "Product title :\n",
      "\n",
      "  Apple iPhone 11, 11 Pro, 11 Pro Max 64GB 128GB 256GB 512GB - All Colour & Grades\n",
      "Rating  :\n",
      "\n",
      "  5 out of 5 stars\n",
      "Price :\n",
      "\n",
      "  $551.48 to $964.76\n",
      "Shipping Cost :\n",
      "\n",
      " $551.48 to $964.76\n",
      "Box :  Apple iPhone 11 64GB Factory Unlocked Smartphone 4G LTE - Open Box4.5 out of 5 stars(3)3 product ratings - Apple iPhone 11 64GB Factory Unlocked Smartphone 4G LTE - Open Box$509.99$36.58 shipping123 sold\n"
     ]
    },
    {
     "ename": "AttributeError",
     "evalue": "'NoneType' object has no attribute 'get_text'",
     "output_type": "error",
     "traceback": [
      "\u001b[0;31m---------------------------------------------------------------------------\u001b[0m",
      "\u001b[0;31mAttributeError\u001b[0m                            Traceback (most recent call last)",
      "\u001b[0;32m/tmp/ipykernel_551227/2121163231.py\u001b[0m in \u001b[0;36m<module>\u001b[0;34m\u001b[0m\n\u001b[1;32m      7\u001b[0m \u001b[0;34m\u001b[0m\u001b[0m\n\u001b[1;32m      8\u001b[0m     \u001b[0mproduct_title\u001b[0m \u001b[0;34m=\u001b[0m \u001b[0mbox\u001b[0m\u001b[0;34m.\u001b[0m\u001b[0mfind\u001b[0m\u001b[0;34m(\u001b[0m\u001b[0;34m\"h3\"\u001b[0m\u001b[0;34m,\u001b[0m\u001b[0mclass_\u001b[0m \u001b[0;34m=\u001b[0m \u001b[0;34m\"s-item__title s-item__title--has-tags\"\u001b[0m\u001b[0;34m)\u001b[0m\u001b[0;34m\u001b[0m\u001b[0;34m\u001b[0m\u001b[0m\n\u001b[0;32m----> 9\u001b[0;31m     \u001b[0mprint\u001b[0m\u001b[0;34m(\u001b[0m\u001b[0;34m\"Product title :\\n\\n \"\u001b[0m\u001b[0;34m,\u001b[0m\u001b[0mproduct_title\u001b[0m\u001b[0;34m.\u001b[0m\u001b[0mget_text\u001b[0m\u001b[0;34m(\u001b[0m\u001b[0;34m)\u001b[0m\u001b[0;34m)\u001b[0m\u001b[0;34m\u001b[0m\u001b[0;34m\u001b[0m\u001b[0m\n\u001b[0m\u001b[1;32m     10\u001b[0m \u001b[0;34m\u001b[0m\u001b[0m\n\u001b[1;32m     11\u001b[0m     \u001b[0;31m# product Rating\u001b[0m\u001b[0;34m\u001b[0m\u001b[0;34m\u001b[0m\u001b[0;34m\u001b[0m\u001b[0m\n",
      "\u001b[0;31mAttributeError\u001b[0m: 'NoneType' object has no attribute 'get_text'"
     ]
    }
   ],
   "source": [
    "product_box = soup.find_all('div',class_=\"s-item__wrapper clearfix\")\n",
    "\n",
    "for box in product_box:\n",
    "    \n",
    "    ## product title \n",
    "    print(\"Box : \",box.get_text())\n",
    "    \n",
    "    product_title = box.find(\"h3\",class_ = \"s-item__title s-item__title--has-tags\")\n",
    "    print(\"Product title :\\n\\n \",product_title.get_text())\n",
    "\n",
    "    # product Rating\n",
    "    product_rating = box.find('div',class_=\"b-starrating\").find(\"span\",class_=\"b-starrating__star\").find(\"span\",\"clipped\")\n",
    "    print(\"Rating  :\\n\\n \",product_rating.get_text())\n",
    "\n",
    "    #price product\n",
    "    product_price = box.find(\"div\",class_=\"s-item__detail s-item__detail--primary\").find(\"span\",class_=\"s-item__price\") #.find(\"ccc\",class_=\"ccc--converted\")\n",
    "    print(\"Price :\\n\\n \",product_price.get_text())\n",
    "\n",
    "    # Shipping cost\n",
    "    shipping_cost = box.find('div',class_=\"s-item__detail s-item__detail--primary\").find('span',class_=\"s-item__price\")\n",
    "    print(\"Shipping Cost :\\n\\n\",shipping_cost.get_text())\n",
    "\n",
    "    # product picture but delayed i ill do at the other time\n",
    "    # product_picture = product_box.find('div',class_=\"s-item__image-wrapper\").find('div',class_=\"s-item__image-helper\").find(\"img\",class_=\"s-item__image-img\")\n",
    "    # print(\"Product Picture : \",product_picture)\n",
    "\n",
    "    # print(product_name.get_text())"
   ]
  },
  {
   "cell_type": "code",
   "execution_count": null,
   "id": "6de432c5-a19a-4ae7-9a33-0342aa0bb974",
   "metadata": {},
   "outputs": [],
   "source": []
  },
  {
   "cell_type": "code",
   "execution_count": 53,
   "id": "5f980b55-2a5d-4408-8938-ec8a34832deb",
   "metadata": {},
   "outputs": [
    {
     "name": "stdout",
     "output_type": "stream",
     "text": [
      "Requirement already satisfied: jupyter-kite<2.0.0 in /home/iffishells/anaconda3/lib/python3.8/site-packages (1.2.0)\n",
      "Requirement already satisfied: tornado>=5.1.0 in /home/iffishells/.local/lib/python3.8/site-packages (from jupyter-kite<2.0.0) (6.1)\n",
      "Requirement already satisfied: setuptools in /home/iffishells/anaconda3/lib/python3.8/site-packages (from jupyter-kite<2.0.0) (49.2.0.post20200714)\n",
      "Requirement already satisfied: notebook>=4.3.1 in /home/iffishells/.local/lib/python3.8/site-packages (from jupyter-kite<2.0.0) (6.4.0)\n",
      "Requirement already satisfied: pyzmq>=17 in /home/iffishells/.local/lib/python3.8/site-packages (from notebook>=4.3.1->jupyter-kite<2.0.0) (22.1.0)\n",
      "Requirement already satisfied: terminado>=0.8.3 in /home/iffishells/.local/lib/python3.8/site-packages (from notebook>=4.3.1->jupyter-kite<2.0.0) (0.10.1)\n",
      "Requirement already satisfied: ipykernel in /home/iffishells/.local/lib/python3.8/site-packages (from notebook>=4.3.1->jupyter-kite<2.0.0) (6.0.3)\n",
      "Requirement already satisfied: ipython-genutils in /home/iffishells/anaconda3/lib/python3.8/site-packages (from notebook>=4.3.1->jupyter-kite<2.0.0) (0.2.0)\n",
      "Requirement already satisfied: prometheus-client in /home/iffishells/.local/lib/python3.8/site-packages (from notebook>=4.3.1->jupyter-kite<2.0.0) (0.11.0)\n",
      "Requirement already satisfied: argon2-cffi in /home/iffishells/.local/lib/python3.8/site-packages (from notebook>=4.3.1->jupyter-kite<2.0.0) (20.1.0)\n",
      "Requirement already satisfied: nbconvert in /home/iffishells/.local/lib/python3.8/site-packages (from notebook>=4.3.1->jupyter-kite<2.0.0) (6.1.0)\n",
      "Requirement already satisfied: traitlets>=4.2.1 in /home/iffishells/anaconda3/lib/python3.8/site-packages (from notebook>=4.3.1->jupyter-kite<2.0.0) (4.3.3)\n",
      "Requirement already satisfied: jupyter-core>=4.6.1 in /home/iffishells/anaconda3/lib/python3.8/site-packages (from notebook>=4.3.1->jupyter-kite<2.0.0) (4.6.3)\n",
      "Requirement already satisfied: nbformat in /home/iffishells/.local/lib/python3.8/site-packages (from notebook>=4.3.1->jupyter-kite<2.0.0) (5.1.3)\n",
      "Requirement already satisfied: jinja2 in /home/iffishells/.local/lib/python3.8/site-packages (from notebook>=4.3.1->jupyter-kite<2.0.0) (3.0.1)\n",
      "Requirement already satisfied: Send2Trash>=1.5.0 in /home/iffishells/.local/lib/python3.8/site-packages (from notebook>=4.3.1->jupyter-kite<2.0.0) (1.7.1)\n",
      "Requirement already satisfied: jupyter-client>=5.3.4 in /home/iffishells/.local/lib/python3.8/site-packages (from notebook>=4.3.1->jupyter-kite<2.0.0) (6.1.12)\n",
      "Requirement already satisfied: ptyprocess; os_name != \"nt\" in /home/iffishells/.local/lib/python3.8/site-packages (from terminado>=0.8.3->notebook>=4.3.1->jupyter-kite<2.0.0) (0.7.0)\n",
      "Requirement already satisfied: matplotlib-inline<0.2.0,>=0.1.0 in /home/iffishells/.local/lib/python3.8/site-packages (from ipykernel->notebook>=4.3.1->jupyter-kite<2.0.0) (0.1.2)\n",
      "Requirement already satisfied: debugpy<2.0,>=1.0.0 in /home/iffishells/.local/lib/python3.8/site-packages (from ipykernel->notebook>=4.3.1->jupyter-kite<2.0.0) (1.4.1)\n",
      "Requirement already satisfied: ipython<8.0,>=7.23.1 in /home/iffishells/.local/lib/python3.8/site-packages (from ipykernel->notebook>=4.3.1->jupyter-kite<2.0.0) (7.25.0)\n",
      "Requirement already satisfied: six in /home/iffishells/anaconda3/lib/python3.8/site-packages (from argon2-cffi->notebook>=4.3.1->jupyter-kite<2.0.0) (1.15.0)\n",
      "Requirement already satisfied: cffi>=1.0.0 in /home/iffishells/.local/lib/python3.8/site-packages (from argon2-cffi->notebook>=4.3.1->jupyter-kite<2.0.0) (1.14.6)\n",
      "Requirement already satisfied: jupyterlab-pygments in /home/iffishells/.local/lib/python3.8/site-packages (from nbconvert->notebook>=4.3.1->jupyter-kite<2.0.0) (0.1.2)\n",
      "Requirement already satisfied: nbclient<0.6.0,>=0.5.0 in /home/iffishells/.local/lib/python3.8/site-packages (from nbconvert->notebook>=4.3.1->jupyter-kite<2.0.0) (0.5.3)\n",
      "Requirement already satisfied: defusedxml in /home/iffishells/.local/lib/python3.8/site-packages (from nbconvert->notebook>=4.3.1->jupyter-kite<2.0.0) (0.7.1)\n",
      "Requirement already satisfied: mistune<2,>=0.8.1 in /home/iffishells/.local/lib/python3.8/site-packages (from nbconvert->notebook>=4.3.1->jupyter-kite<2.0.0) (0.8.4)\n",
      "Requirement already satisfied: testpath in /home/iffishells/.local/lib/python3.8/site-packages (from nbconvert->notebook>=4.3.1->jupyter-kite<2.0.0) (0.5.0)\n",
      "Requirement already satisfied: entrypoints>=0.2.2 in /home/iffishells/anaconda3/lib/python3.8/site-packages (from nbconvert->notebook>=4.3.1->jupyter-kite<2.0.0) (0.3)\n",
      "Requirement already satisfied: bleach in /home/iffishells/.local/lib/python3.8/site-packages (from nbconvert->notebook>=4.3.1->jupyter-kite<2.0.0) (3.3.1)\n",
      "Requirement already satisfied: pygments>=2.4.1 in /home/iffishells/.local/lib/python3.8/site-packages (from nbconvert->notebook>=4.3.1->jupyter-kite<2.0.0) (2.9.0)\n",
      "Requirement already satisfied: pandocfilters>=1.4.1 in /home/iffishells/.local/lib/python3.8/site-packages (from nbconvert->notebook>=4.3.1->jupyter-kite<2.0.0) (1.4.3)\n",
      "Requirement already satisfied: decorator in /home/iffishells/anaconda3/lib/python3.8/site-packages (from traitlets>=4.2.1->notebook>=4.3.1->jupyter-kite<2.0.0) (4.4.2)\n",
      "Requirement already satisfied: jsonschema!=2.5.0,>=2.4 in /home/iffishells/.local/lib/python3.8/site-packages (from nbformat->notebook>=4.3.1->jupyter-kite<2.0.0) (3.2.0)\n",
      "Requirement already satisfied: MarkupSafe>=2.0 in /home/iffishells/.local/lib/python3.8/site-packages (from jinja2->notebook>=4.3.1->jupyter-kite<2.0.0) (2.0.1)\n",
      "Requirement already satisfied: python-dateutil>=2.1 in /home/iffishells/anaconda3/lib/python3.8/site-packages (from jupyter-client>=5.3.4->notebook>=4.3.1->jupyter-kite<2.0.0) (2.8.1)\n",
      "Requirement already satisfied: prompt-toolkit!=3.0.0,!=3.0.1,<3.1.0,>=2.0.0 in /home/iffishells/.local/lib/python3.8/site-packages (from ipython<8.0,>=7.23.1->ipykernel->notebook>=4.3.1->jupyter-kite<2.0.0) (3.0.19)\n",
      "Requirement already satisfied: pickleshare in /home/iffishells/.local/lib/python3.8/site-packages (from ipython<8.0,>=7.23.1->ipykernel->notebook>=4.3.1->jupyter-kite<2.0.0) (0.7.5)\n",
      "Requirement already satisfied: backcall in /home/iffishells/.local/lib/python3.8/site-packages (from ipython<8.0,>=7.23.1->ipykernel->notebook>=4.3.1->jupyter-kite<2.0.0) (0.2.0)\n",
      "Requirement already satisfied: pexpect>4.3; sys_platform != \"win32\" in /home/iffishells/anaconda3/lib/python3.8/site-packages (from ipython<8.0,>=7.23.1->ipykernel->notebook>=4.3.1->jupyter-kite<2.0.0) (4.8.0)\n",
      "Requirement already satisfied: jedi>=0.16 in /home/iffishells/.local/lib/python3.8/site-packages (from ipython<8.0,>=7.23.1->ipykernel->notebook>=4.3.1->jupyter-kite<2.0.0) (0.18.0)\n",
      "Requirement already satisfied: pycparser in /home/iffishells/.local/lib/python3.8/site-packages (from cffi>=1.0.0->argon2-cffi->notebook>=4.3.1->jupyter-kite<2.0.0) (2.20)\n",
      "Requirement already satisfied: async-generator in /home/iffishells/.local/lib/python3.8/site-packages (from nbclient<0.6.0,>=0.5.0->nbconvert->notebook>=4.3.1->jupyter-kite<2.0.0) (1.10)\n",
      "Requirement already satisfied: nest-asyncio in /home/iffishells/.local/lib/python3.8/site-packages (from nbclient<0.6.0,>=0.5.0->nbconvert->notebook>=4.3.1->jupyter-kite<2.0.0) (1.5.1)\n",
      "Requirement already satisfied: packaging in /home/iffishells/.local/lib/python3.8/site-packages (from bleach->nbconvert->notebook>=4.3.1->jupyter-kite<2.0.0) (21.0)\n",
      "Requirement already satisfied: webencodings in /home/iffishells/.local/lib/python3.8/site-packages (from bleach->nbconvert->notebook>=4.3.1->jupyter-kite<2.0.0) (0.5.1)\n",
      "Requirement already satisfied: pyrsistent>=0.14.0 in /home/iffishells/.local/lib/python3.8/site-packages (from jsonschema!=2.5.0,>=2.4->nbformat->notebook>=4.3.1->jupyter-kite<2.0.0) (0.18.0)\n",
      "Requirement already satisfied: attrs>=17.4.0 in /home/iffishells/.local/lib/python3.8/site-packages (from jsonschema!=2.5.0,>=2.4->nbformat->notebook>=4.3.1->jupyter-kite<2.0.0) (21.2.0)\n",
      "Requirement already satisfied: wcwidth in /home/iffishells/.local/lib/python3.8/site-packages (from prompt-toolkit!=3.0.0,!=3.0.1,<3.1.0,>=2.0.0->ipython<8.0,>=7.23.1->ipykernel->notebook>=4.3.1->jupyter-kite<2.0.0) (0.2.5)\n",
      "Requirement already satisfied: parso<0.9.0,>=0.8.0 in /home/iffishells/.local/lib/python3.8/site-packages (from jedi>=0.16->ipython<8.0,>=7.23.1->ipykernel->notebook>=4.3.1->jupyter-kite<2.0.0) (0.8.2)\n",
      "Requirement already satisfied: pyparsing>=2.0.2 in /home/iffishells/.local/lib/python3.8/site-packages (from packaging->bleach->nbconvert->notebook>=4.3.1->jupyter-kite<2.0.0) (2.4.7)\n"
     ]
    },
    {
     "name": "stdout",
     "output_type": "stream",
     "text": [
      "An error occured.\r\n",
      "ValueError: Please install Node.js and npm before continuing installation. You may be able to install Node.js from your package manager, from conda, or directly from the Node.js website (https://nodejs.org).\r\n",
      "See the log file for details:  /tmp/jupyterlab-debug-vav40cr_.log\r\n"
     ]
    }
   ],
   "source": []
  },
  {
   "cell_type": "code",
   "execution_count": null,
   "id": "14da2aa1",
   "metadata": {},
   "outputs": [],
   "source": []
  }
 ],
 "metadata": {
  "kernelspec": {
   "display_name": "Python 3 (ipykernel)",
   "language": "python",
   "name": "python3"
  },
  "language_info": {
   "codemirror_mode": {
    "name": "ipython",
    "version": 3
   },
   "file_extension": ".py",
   "mimetype": "text/x-python",
   "name": "python",
   "nbconvert_exporter": "python",
   "pygments_lexer": "ipython3",
   "version": "3.8.3"
  }
 },
 "nbformat": 4,
 "nbformat_minor": 5
}
