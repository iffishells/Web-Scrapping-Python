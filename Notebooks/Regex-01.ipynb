{
 "cells": [
  {
   "cell_type": "markdown",
   "id": "08fc7fb3-bc16-4875-9a69-9e3ee8316938",
   "metadata": {},
   "source": [
    "# Regular Expression"
   ]
  },
  {
   "cell_type": "code",
   "execution_count": null,
   "id": "71ee7066-dcf4-42af-9fec-7dac56572d7e",
   "metadata": {},
   "outputs": [],
   "source": [
    "import re"
   ]
  },
  {
   "cell_type": "code",
   "execution_count": 156,
   "id": "f827c837-0911-49ff-9d95-84c7dc5cb3e0",
   "metadata": {},
   "outputs": [],
   "source": [
    "string = '''abcdefghijklmnopqrstuvwxyz\n",
    "ABCDEFGHIJKLMNOPQRSTUVWXYZ\n",
    "1234567890\n",
    "\n",
    "Ha Haha\n",
    "\n",
    "MetaCharacter (Need to escaped)\n",
    "\n",
    ".[{()\\^$|?*+\n",
    "\n",
    "coreyms.com\n",
    "Marks48@gmail.com\n",
    "Buff47@hotmail.com\n",
    "Linux00@my-work.net\n",
    "\n",
    "\n",
    "321-555-4321\n",
    "123.555.1234\n",
    "Mr Iron\n",
    "Mr. Schafar\n",
    "Mr Bhooky\n",
    "Dr ABC\n",
    "Mrs. Xyz\n",
    "Mr Ab\n",
    "'''"
   ]
  },
  {
   "cell_type": "code",
   "execution_count": 170,
   "id": "3a5fe336-50f9-476c-af7d-0d8b53ebe8d2",
   "metadata": {},
   "outputs": [],
   "source": [
    "email_pattern = r'[A-Z]{1}\\w+[0-9]{2}@[a-z-]+\\.(com|net)'\n",
    "# username_pattern = r'(M|D)[a-z]{1,3}\\.?\\s[A-Z][a-z]+'\n",
    "pattern = re.compile(email_pattern)"
   ]
  },
  {
   "cell_type": "code",
   "execution_count": 171,
   "id": "6b785d5d-1a81-419d-86ba-37c844020cf0",
   "metadata": {},
   "outputs": [
    {
     "name": "stdout",
     "output_type": "stream",
     "text": [
      "<re.Match object; span=(134, 151), match='Marks48@gmail.com'>\n",
      "<re.Match object; span=(152, 170), match='Buff47@hotmail.com'>\n",
      "<re.Match object; span=(171, 190), match='Linux00@my-work.net'>\n"
     ]
    }
   ],
   "source": [
    "matches = pattern.finditer(string)\n",
    "for match in matches:\n",
    "    print(match)"
   ]
  },
  {
   "cell_type": "code",
   "execution_count": null,
   "id": "88f662e5-22e6-41c6-9cb6-6eb73a8866bc",
   "metadata": {},
   "outputs": [],
   "source": []
  },
  {
   "cell_type": "code",
   "execution_count": null,
   "id": "4ce28598-6d62-46e1-9706-dad681d011c0",
   "metadata": {},
   "outputs": [],
   "source": []
  }
 ],
 "metadata": {
  "kernelspec": {
   "display_name": "Python 3 (ipykernel)",
   "language": "python",
   "name": "python3"
  },
  "language_info": {
   "codemirror_mode": {
    "name": "ipython",
    "version": 3
   },
   "file_extension": ".py",
   "mimetype": "text/x-python",
   "name": "python",
   "nbconvert_exporter": "python",
   "pygments_lexer": "ipython3",
   "version": "3.8.11"
  }
 },
 "nbformat": 4,
 "nbformat_minor": 5
}
