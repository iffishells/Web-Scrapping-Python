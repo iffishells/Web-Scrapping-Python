{
 "cells": [
  {
   "cell_type": "code",
   "execution_count": 4,
   "id": "f174a3b4-7510-46e6-a16e-6908c27d0381",
   "metadata": {},
   "outputs": [
    {
     "name": "stdout",
     "output_type": "stream",
     "text": [
      "Collecting scrapy\n",
      "  Downloading Scrapy-2.5.1-py2.py3-none-any.whl (254 kB)\n",
      "\u001b[K     |████████████████████████████████| 254 kB 23 kB/s \n",
      "\u001b[?25hRequirement already satisfied: cryptography>=2.0 in /home/iffishells/anaconda3/lib/python3.8/site-packages (from scrapy) (3.4.7)\n",
      "Collecting service-identity>=16.0.0\n",
      "  Using cached service_identity-21.1.0-py2.py3-none-any.whl (12 kB)\n",
      "Requirement already satisfied: pyOpenSSL>=16.2.0 in /home/iffishells/anaconda3/lib/python3.8/site-packages (from scrapy) (20.0.1)\n",
      "Collecting parsel>=1.5.0\n",
      "  Using cached parsel-1.6.0-py2.py3-none-any.whl (13 kB)\n",
      "Collecting Twisted[http2]>=17.9.0\n",
      "  Downloading Twisted-21.7.0-py3-none-any.whl (3.1 MB)\n",
      "\u001b[K     |████████████████████████████▏   | 2.7 MB 7.0 kB/s eta 0:00:53"
     ]
    }
   ],
   "source": [
    "!pip install scrapy\n",
    "!pip install requests -i http://pypi.douban.com/simple/ --trusted-host pypi.douban.com\n",
    "!pip install responses\n",
    "!pip install bs4 \n",
    "!pip install html5lib"
   ]
  },
  {
   "cell_type": "code",
   "execution_count": 3,
   "id": "638ebc60-49a2-465e-8523-60c81c40cb2d",
   "metadata": {},
   "outputs": [
    {
     "ename": "ModuleNotFoundError",
     "evalue": "No module named 'bs4'",
     "output_type": "error",
     "traceback": [
      "\u001b[0;31m---------------------------------------------------------------------------\u001b[0m",
      "\u001b[0;31mModuleNotFoundError\u001b[0m                       Traceback (most recent call last)",
      "\u001b[0;32m/tmp/ipykernel_1713649/2256528794.py\u001b[0m in \u001b[0;36m<module>\u001b[0;34m\u001b[0m\n\u001b[1;32m      1\u001b[0m \u001b[0;32mimport\u001b[0m \u001b[0mrequests\u001b[0m\u001b[0;34m\u001b[0m\u001b[0;34m\u001b[0m\u001b[0m\n\u001b[0;32m----> 2\u001b[0;31m \u001b[0;32mfrom\u001b[0m \u001b[0mbs4\u001b[0m \u001b[0;32mimport\u001b[0m \u001b[0mBeautifulSoup\u001b[0m\u001b[0;34m\u001b[0m\u001b[0;34m\u001b[0m\u001b[0m\n\u001b[0m\u001b[1;32m      3\u001b[0m \u001b[0;34m\u001b[0m\u001b[0m\n\u001b[1;32m      4\u001b[0m \u001b[0murl\u001b[0m \u001b[0;34m=\u001b[0m \u001b[0;34m\"https://codewithharry.com\"\u001b[0m\u001b[0;34m\u001b[0m\u001b[0;34m\u001b[0m\u001b[0m\n\u001b[1;32m      5\u001b[0m \u001b[0mr\u001b[0m \u001b[0;34m=\u001b[0m \u001b[0mrequests\u001b[0m\u001b[0;34m.\u001b[0m\u001b[0mget\u001b[0m\u001b[0;34m(\u001b[0m\u001b[0murl\u001b[0m\u001b[0;34m)\u001b[0m\u001b[0;34m\u001b[0m\u001b[0;34m\u001b[0m\u001b[0m\n",
      "\u001b[0;31mModuleNotFoundError\u001b[0m: No module named 'bs4'"
     ]
    }
   ],
   "source": [
    "import requests\n",
    "from bs4 import BeautifulSoup\n",
    "\n",
    "url = \"https://codewithharry.com\"\n",
    "r = requests.get(url)\n",
    "soup = BeautifulSoup(r.content,'html.parser')\n",
    "\n",
    "\n"
   ]
  },
  {
   "cell_type": "code",
   "execution_count": null,
   "id": "e4eac39a-b50b-4e3d-8cc9-2fee8f1c7480",
   "metadata": {},
   "outputs": [
    {
     "name": "stdout",
     "output_type": "stream",
     "text": [
      "<bound method Tag.prettify of <!DOCTYPE html>\n",
      "<html lang=\"en\"><head>\n",
      "<meta charset=\"utf-8\"/>\n",
      "<title>Home - CodeWithHarry</title>\n",
      "<base href=\"/\"/>\n",
      "<meta content=\"width=device-width, initial-scale=1\" name=\"viewport\"/>\n",
      "<link href=\"favicon.ico\" rel=\"icon\" type=\"image/x-icon\"/>\n",
      "<link href=\"https://fonts.gstatic.com\" rel=\"preconnect\"/>\n",
      "<style type=\"text/css\">@font-face{font-family:'Roboto';font-style:normal;font-weight:300;font-display:swap;src:url(https://fonts.gstatic.com/s/roboto/v27/KFOlCnqEu92Fr1MmSU5fCRc4AMP6lbBP.woff2) format('woff2');unicode-range:U+0460-052F, U+1C80-1C88, U+20B4, U+2DE0-2DFF, U+A640-A69F, U+FE2E-FE2F;}@font-face{font-family:'Roboto';font-style:normal;font-weight:300;font-display:swap;src:url(https://fonts.gstatic.com/s/roboto/v27/KFOlCnqEu92Fr1MmSU5fABc4AMP6lbBP.woff2) format('woff2');unicode-range:U+0400-045F, U+0490-0491, U+04B0-04B1, U+2116;}@font-face{font-family:'Roboto';font-style:normal;font-weight:300;font-display:swap;src:url(https://fonts.gstatic.com/s/roboto/v27/KFOlCnqEu92Fr1MmSU5fCBc4AMP6lbBP.woff2) format('woff2');unicode-range:U+1F00-1FFF;}@font-face{font-family:'Roboto';font-style:normal;font-weight:300;font-display:swap;src:url(https://fonts.gstatic.com/s/roboto/v27/KFOlCnqEu92Fr1MmSU5fBxc4AMP6lbBP.woff2) format('woff2');unicode-range:U+0370-03FF;}@font-face{font-family:'Roboto';font-style:normal;font-weight:300;font-display:swap;src:url(https://fonts.gstatic.com/s/roboto/v27/KFOlCnqEu92Fr1MmSU5fCxc4AMP6lbBP.woff2) format('woff2');unicode-range:U+0102-0103, U+0110-0111, U+0128-0129, U+0168-0169, U+01A0-01A1, U+01AF-01B0, U+1EA0-1EF9, U+20AB;}@font-face{font-family:'Roboto';font-style:normal;font-weight:300;font-display:swap;src:url(https://fonts.gstatic.com/s/roboto/v27/KFOlCnqEu92Fr1MmSU5fChc4AMP6lbBP.woff2) format('woff2');unicode-range:U+0100-024F, U+0259, U+1E00-1EFF, U+2020, U+20A0-20AB, U+20AD-20CF, U+2113, U+2C60-2C7F, U+A720-A7FF;}@font-face{font-family:'Roboto';font-style:normal;font-weight:300;font-display:swap;src:url(https://fonts.gstatic.com/s/roboto/v27/KFOlCnqEu92Fr1MmSU5fBBc4AMP6lQ.woff2) format('woff2');unicode-range:U+0000-00FF, U+0131, U+0152-0153, U+02BB-02BC, U+02C6, U+02DA, U+02DC, U+2000-206F, U+2074, U+20AC, U+2122, U+2191, U+2193, U+2212, U+2215, U+FEFF, U+FFFD;}@font-face{font-family:'Roboto';font-style:normal;font-weight:400;font-display:swap;src:url(https://fonts.gstatic.com/s/roboto/v27/KFOmCnqEu92Fr1Mu72xKKTU1Kvnz.woff2) format('woff2');unicode-range:U+0460-052F, U+1C80-1C88, U+20B4, U+2DE0-2DFF, U+A640-A69F, U+FE2E-FE2F;}@font-face{font-family:'Roboto';font-style:normal;font-weight:400;font-display:swap;src:url(https://fonts.gstatic.com/s/roboto/v27/KFOmCnqEu92Fr1Mu5mxKKTU1Kvnz.woff2) format('woff2');unicode-range:U+0400-045F, U+0490-0491, U+04B0-04B1, U+2116;}@font-face{font-family:'Roboto';font-style:normal;font-weight:400;font-display:swap;src:url(https://fonts.gstatic.com/s/roboto/v27/KFOmCnqEu92Fr1Mu7mxKKTU1Kvnz.woff2) format('woff2');unicode-range:U+1F00-1FFF;}@font-face{font-family:'Roboto';font-style:normal;font-weight:400;font-display:swap;src:url(https://fonts.gstatic.com/s/roboto/v27/KFOmCnqEu92Fr1Mu4WxKKTU1Kvnz.woff2) format('woff2');unicode-range:U+0370-03FF;}@font-face{font-family:'Roboto';font-style:normal;font-weight:400;font-display:swap;src:url(https://fonts.gstatic.com/s/roboto/v27/KFOmCnqEu92Fr1Mu7WxKKTU1Kvnz.woff2) format('woff2');unicode-range:U+0102-0103, U+0110-0111, U+0128-0129, U+0168-0169, U+01A0-01A1, U+01AF-01B0, U+1EA0-1EF9, U+20AB;}@font-face{font-family:'Roboto';font-style:normal;font-weight:400;font-display:swap;src:url(https://fonts.gstatic.com/s/roboto/v27/KFOmCnqEu92Fr1Mu7GxKKTU1Kvnz.woff2) format('woff2');unicode-range:U+0100-024F, U+0259, U+1E00-1EFF, U+2020, U+20A0-20AB, U+20AD-20CF, U+2113, U+2C60-2C7F, U+A720-A7FF;}@font-face{font-family:'Roboto';font-style:normal;font-weight:400;font-display:swap;src:url(https://fonts.gstatic.com/s/roboto/v27/KFOmCnqEu92Fr1Mu4mxKKTU1Kg.woff2) format('woff2');unicode-range:U+0000-00FF, U+0131, U+0152-0153, U+02BB-02BC, U+02C6, U+02DA, U+02DC, U+2000-206F, U+2074, U+20AC, U+2122, U+2191, U+2193, U+2212, U+2215, U+FEFF, U+FFFD;}@font-face{font-family:'Roboto';font-style:normal;font-weight:500;font-display:swap;src:url(https://fonts.gstatic.com/s/roboto/v27/KFOlCnqEu92Fr1MmEU9fCRc4AMP6lbBP.woff2) format('woff2');unicode-range:U+0460-052F, U+1C80-1C88, U+20B4, U+2DE0-2DFF, U+A640-A69F, U+FE2E-FE2F;}@font-face{font-family:'Roboto';font-style:normal;font-weight:500;font-display:swap;src:url(https://fonts.gstatic.com/s/roboto/v27/KFOlCnqEu92Fr1MmEU9fABc4AMP6lbBP.woff2) format('woff2');unicode-range:U+0400-045F, U+0490-0491, U+04B0-04B1, U+2116;}@font-face{font-family:'Roboto';font-style:normal;font-weight:500;font-display:swap;src:url(https://fonts.gstatic.com/s/roboto/v27/KFOlCnqEu92Fr1MmEU9fCBc4AMP6lbBP.woff2) format('woff2');unicode-range:U+1F00-1FFF;}@font-face{font-family:'Roboto';font-style:normal;font-weight:500;font-display:swap;src:url(https://fonts.gstatic.com/s/roboto/v27/KFOlCnqEu92Fr1MmEU9fBxc4AMP6lbBP.woff2) format('woff2');unicode-range:U+0370-03FF;}@font-face{font-family:'Roboto';font-style:normal;font-weight:500;font-display:swap;src:url(https://fonts.gstatic.com/s/roboto/v27/KFOlCnqEu92Fr1MmEU9fCxc4AMP6lbBP.woff2) format('woff2');unicode-range:U+0102-0103, U+0110-0111, U+0128-0129, U+0168-0169, U+01A0-01A1, U+01AF-01B0, U+1EA0-1EF9, U+20AB;}@font-face{font-family:'Roboto';font-style:normal;font-weight:500;font-display:swap;src:url(https://fonts.gstatic.com/s/roboto/v27/KFOlCnqEu92Fr1MmEU9fChc4AMP6lbBP.woff2) format('woff2');unicode-range:U+0100-024F, U+0259, U+1E00-1EFF, U+2020, U+20A0-20AB, U+20AD-20CF, U+2113, U+2C60-2C7F, U+A720-A7FF;}@font-face{font-family:'Roboto';font-style:normal;font-weight:500;font-display:swap;src:url(https://fonts.gstatic.com/s/roboto/v27/KFOlCnqEu92Fr1MmEU9fBBc4AMP6lQ.woff2) format('woff2');unicode-range:U+0000-00FF, U+0131, U+0152-0153, U+02BB-02BC, U+02C6, U+02DA, U+02DC, U+2000-206F, U+2074, U+20AC, U+2122, U+2191, U+2193, U+2212, U+2215, U+FEFF, U+FFFD;}</style>\n",
      "<style type=\"text/css\">@font-face{font-family:'Material Icons';font-style:normal;font-weight:400;src:url(https://fonts.gstatic.com/s/materialicons/v87/flUhRq6tzZclQEJ-Vdg-IuiaDsNcIhQ8tQ.woff2) format('woff2');}.material-icons{font-family:'Material Icons';font-weight:normal;font-style:normal;font-size:24px;line-height:1;letter-spacing:normal;text-transform:none;display:inline-block;white-space:nowrap;word-wrap:normal;direction:ltr;-webkit-font-feature-settings:'liga';-webkit-font-smoothing:antialiased;}</style>\n",
      "<script async=\"\" data-ad-client=\"ca-pub-9655830461045889\" src=\"https://pagead2.googlesyndication.com/pagead/js/adsbygoogle.js\"></script>\n",
      "<!-- Global site tag (gtag.js) - Google Analytics -->\n",
      "<script async=\"\" src=\"https://www.googletagmanager.com/gtag/js?id=UA-60726752-3\"></script>\n",
      "<script>\n",
      "    window.dataLayer = window.dataLayer || [];\n",
      "    function gtag() { dataLayer.push(arguments); }\n",
      "    gtag('js', new Date());\n",
      "    gtag('config', 'UA-60726752-3');\n",
      "  </script>\n",
      "<link href=\"styles.bc31d58d1fffbdf64e6b.css\" rel=\"stylesheet\"/><style ng-transition=\"serverApp\">.content[_ngcontent-sc76]{min-height:calc(100vh - 56px - 80px)}</style><style ng-transition=\"serverApp\">[_nghost-sc73]{position:relative;display:block;pointer-events:none}[_nghost-sc73]   .ngx-spinner[_ngcontent-sc73]{transition:350ms linear;display:block;position:absolute;top:5px;left:0}[_nghost-sc73]   .ngx-spinner[_ngcontent-sc73]   .ngx-spinner-icon[_ngcontent-sc73]{width:14px;height:14px;border:2px solid transparent;border-top-color:inherit;border-left-color:inherit;border-radius:50%;-webkit-animation:.4s linear infinite loading-bar-spinner;animation:.4s linear infinite loading-bar-spinner}[_nghost-sc73]   .ngx-bar[_ngcontent-sc73]{transition:width 350ms;position:absolute;top:0;left:0;width:100%;height:2px;border-bottom-right-radius:1px;border-top-right-radius:1px}[dir=rtl]   [_nghost-sc73]   .ngx-bar[_ngcontent-sc73]{right:0;left:unset}[fixed=true][_nghost-sc73]{z-index:10002}[fixed=true][_nghost-sc73]   .ngx-bar[_ngcontent-sc73]{position:fixed}[fixed=true][_nghost-sc73]   .ngx-spinner[_ngcontent-sc73]{position:fixed;top:10px;left:10px}[dir=rtl]   [fixed=true][_nghost-sc73]   .ngx-spinner[_ngcontent-sc73]{right:10px;left:unset}@-webkit-keyframes loading-bar-spinner{0%{transform:rotate(0)}100%{transform:rotate(360deg)}}@keyframes loading-bar-spinner{0%{transform:rotate(0)}100%{transform:rotate(360deg)}}</style><style ng-transition=\"serverApp\">.brandLogo[_ngcontent-sc74]{max-width:39px;margin:0 13px}li[_ngcontent-sc74]   a.nav-link[_ngcontent-sc74]{color:#fff}.notificationImg[_ngcontent-sc74]{width:30px;filter:invert(1)}.notification-bell[_ngcontent-sc74]{position:absolute;right:0}.dropdown-toggle[_ngcontent-sc74]{font-weight:700}.dropdown-menu-notify[_ngcontent-sc74]{overflow-y:scroll;overflow-x:hidden;max-height:400px;top:60px;right:-1px;left:unset;width:460px;box-shadow:0 5px 7px -1px #c1c1c1;padding:0}ul[_ngcontent-sc74]   ul[_ngcontent-sc74]   a[_ngcontent-sc74]{background:transparent}.dropdown-menu-notify[_ngcontent-sc74]:before{content:\"\";position:absolute;top:-20px;right:12px;border:10px solid transparent;border-bottom-color:#fff}.head-notify[_ngcontent-sc74]{padding:5px 15px;border-radius:3px 3px 0 0}.footer-notify[_ngcontent-sc74]{padding:5px 15px;border-radius:0 0 3px 3px}.notification-box-notify[_ngcontent-sc74]{padding:10px 0}.bg-gray-notify[_ngcontent-sc74]{background-color:#eee}@media (max-width:640px){.dropdown-menu-notify[_ngcontent-sc74]{top:50px;left:-16px;width:290px}.nav-notify[_ngcontent-sc74]{display:block}.nav-notify[_ngcontent-sc74]   .nav-item-notify[_ngcontent-sc74], .nav-notify[_ngcontent-sc74]   .nav-item-notify[_ngcontent-sc74]   a[_ngcontent-sc74]{padding-left:0}.message-notify[_ngcontent-sc74]{font-size:13px}}.loginError[_ngcontent-sc74]{color:red;padding:3px 2px}div.alert[_ngcontent-sc74]{margin:0}input.ng-touched.ng-invalid[_ngcontent-sc74], textarea.ng-touched.ng-invalid[_ngcontent-sc74]{border-color:red}.forgot[_ngcontent-sc74]{font-size:14px;color:#000;text-align:left;text-decoration:underline;cursor:pointer;padding:16px 0}.googleAuth[_ngcontent-sc74]{width:46%;cursor:pointer;border:1px solid #000;border-radius:3px;background:#60a3dd;margin-top:1px}.or[_ngcontent-sc74]{font-weight:500;font-size:19px}.modal-header[_ngcontent-sc74]{display:flex;align-items:center;justify-content:center;flex-direction:column}.modal-header[_ngcontent-sc74]   span[_ngcontent-sc74]{position:absolute;top:15px;right:20px}.navbar-brand[_ngcontent-sc74]{margin:0;padding:0}</style><style ng-transition=\"serverApp\">footer[_ngcontent-sc75]{color:#fff}</style><style ng-transition=\"serverApp\">.btn[_ngcontent-sc67]{margin:0 3px}</style><meta content=\"Code With Harry is my attempt to teach basics and those coding techniques to people in short time which took me ages to learn. At Code With Harry, I provide a quick and to the point demo along with resources of anything and everything I teach. Source code and other resources are hosted on my website CodeWithHarry.com. I provide source code(if any) in the description of every video.\" name=\"description\"/></head>\n",
      "<body>\n",
      "<app-root _nghost-sc76=\"\" ng-version=\"11.2.11\"><ngx-loading-bar _ngcontent-sc76=\"\" _nghost-sc73=\"\" fixed=\"true\" style=\"color:red;\"><!-- --></ngx-loading-bar><ngx-loading-bar _ngcontent-sc76=\"\" _nghost-sc73=\"\" fixed=\"true\" style=\"color:red;\"><!-- --></ngx-loading-bar><app-header _ngcontent-sc76=\"\" _nghost-sc74=\"\"><!-- --><nav _ngcontent-sc74=\"\" class=\"navbar navbar-expand-lg navbar-dark bg-dark\"><a _ngcontent-sc74=\"\" class=\"navbar-brand\" href=\"/\" routerlink=\"/\"><img _ngcontent-sc74=\"\" alt=\"CodeWithHarry\" class=\"brandLogo\" height=\"39px\" src=\"../../../assets/img/logo.png\" width=\"39px\"/></a><button _ngcontent-sc74=\"\" aria-controls=\"navbarSupportedContent\" aria-expanded=\"false\" aria-label=\"Toggle navigation\" class=\"navbar-toggler\" data-target=\"#navbarSupportedContent\" data-toggle=\"collapse\" type=\"button\"><span _ngcontent-sc74=\"\" class=\"navbar-toggler-icon\"></span></button><div _ngcontent-sc74=\"\" class=\"collapse navbar-collapse\" id=\"navbarSupportedContent\"><ul _ngcontent-sc74=\"\" class=\"navbar-nav mr-auto\"><li _ngcontent-sc74=\"\" class=\"nav-item font-weight-bold\"><a _ngcontent-sc74=\"\" class=\"nav-link\" href=\"/\" routerlink=\"/\">Home</a></li><li _ngcontent-sc74=\"\" class=\"nav-item font-weight-bold\"><a _ngcontent-sc74=\"\" class=\"nav-link\" href=\"/videos\" routerlink=\"/videos\">Videos</a></li><li _ngcontent-sc74=\"\" class=\"nav-item font-weight-bold\"><a _ngcontent-sc74=\"\" class=\"nav-link\" href=\"/blog\" routerlink=\"/blog\">Blog</a></li><li _ngcontent-sc74=\"\" class=\"nav-item font-weight-bold\"><a _ngcontent-sc74=\"\" class=\"nav-link\" href=\"/contact\" routerlink=\"/contact\">Contact Me</a></li></ul><form _ngcontent-sc74=\"\" class=\"form-inline my-2 my-lg-0 mr-3 ng-untouched ng-pristine ng-valid\" novalidate=\"\"><input _ngcontent-sc74=\"\" aria-label=\"Search\" class=\"form-control mr-sm-2 ng-untouched ng-pristine ng-valid\" name=\"query\" placeholder=\"Search\" type=\"text\" value=\"\"/><button _ngcontent-sc74=\"\" class=\"btn btn-danger my-2 my-sm-0\" type=\"submit\">Search</button></form><div _ngcontent-sc74=\"\" class=\"mx-0\"><button _ngcontent-sc74=\"\" class=\"btn btn-danger mr-2\" data-target=\"#loginModal\" data-toggle=\"modal\" type=\"button\">Login</button><button _ngcontent-sc74=\"\" class=\"btn btn-danger\" data-target=\"#signupModal\" data-toggle=\"modal\" type=\"button\">SignUp</button></div><!-- --><!-- --></div></nav><div _ngcontent-sc74=\"\" aria-hidden=\"true\" aria-labelledby=\"loginModal\" class=\"modal fade\" id=\"loginModal\" role=\"dialog\" tabindex=\"-1\"><div _ngcontent-sc74=\"\" class=\"modal-dialog\" role=\"document\"><div _ngcontent-sc74=\"\" class=\"modal-content\"><div _ngcontent-sc74=\"\" class=\"modal-header\"><img _ngcontent-sc74=\"\" alt=\"Login with Google\" class=\"googleAuth mx-2\" height=\"42.75px\" src=\"../../../assets/img/googleLogin.png\" width=\"25%\"/><div _ngcontent-sc74=\"\" class=\"or mx-3\"> or </div><h5 _ngcontent-sc74=\"\" class=\"modal-title\" id=\"loginModalTitle\">Login via username</h5><button _ngcontent-sc74=\"\" aria-label=\"Close\" class=\"close\" data-dismiss=\"modal\" type=\"button\"><span _ngcontent-sc74=\"\" aria-hidden=\"true\">×</span></button></div><div _ngcontent-sc74=\"\" class=\"modal-body\"><form _ngcontent-sc74=\"\" class=\"ng-untouched ng-pristine ng-invalid\" method=\"post\" novalidate=\"\"><div _ngcontent-sc74=\"\" class=\"form-group\"><label _ngcontent-sc74=\"\" for=\"username\">Username</label><input _ngcontent-sc74=\"\" class=\"form-control ng-untouched ng-pristine ng-invalid\" id=\"username\" maxlength=\"10\" minlength=\"2\" name=\"username\" pattern=\"[a-zA-Z0-9 ]*\" placeholder=\"Enter your username\" required=\"\" type=\"text\" value=\"\"/><!-- --></div><div _ngcontent-sc74=\"\" class=\"form-group\"><label _ngcontent-sc74=\"\" for=\"loginpassword\">Password</label><input _ngcontent-sc74=\"\" class=\"form-control ng-untouched ng-pristine ng-invalid\" id=\"loginpassword\" name=\"loginpassword\" placeholder=\"Enter your password\" required=\"\" type=\"password\" value=\"\"/></div><button _ngcontent-sc74=\"\" class=\"btn btn-danger mt-2\" disabled=\"\" id=\"loginsubmit\" type=\"submit\"><!-- --> Login</button></form><!-- --><!-- --><!-- --><div _ngcontent-sc74=\"\" class=\"forgot\"><span _ngcontent-sc74=\"\">Forgot Password?</span></div></div><div _ngcontent-sc74=\"\" class=\"modal-footer\"><button _ngcontent-sc74=\"\" class=\"btn btn-secondary\" data-dismiss=\"modal\" type=\"button\">Close</button></div></div></div></div><div _ngcontent-sc74=\"\" aria-hidden=\"true\" aria-labelledby=\"signupModal\" class=\"modal fade\" id=\"signupModal\" role=\"dialog\" tabindex=\"-1\"><div _ngcontent-sc74=\"\" class=\"modal-dialog\" role=\"document\"><div _ngcontent-sc74=\"\" class=\"modal-content\"><div _ngcontent-sc74=\"\" class=\"modal-header\"><img _ngcontent-sc74=\"\" alt=\"Signup with Google\" class=\"googleAuth mx-2\" height=\"42.75px\" src=\"../../../assets/img/googleSignUp.png\" width=\"25%\"/><div _ngcontent-sc74=\"\" class=\"or mx-3\"> or </div><h5 _ngcontent-sc74=\"\" class=\"modal-title\" id=\"signupModal\">SignUp for an account</h5><button _ngcontent-sc74=\"\" aria-label=\"Close\" class=\"close\" data-dismiss=\"modal\" type=\"button\"><span _ngcontent-sc74=\"\" aria-hidden=\"true\">×</span></button></div><div _ngcontent-sc74=\"\" class=\"modal-body\"><form _ngcontent-sc74=\"\" class=\"ng-untouched ng-pristine ng-invalid\" method=\"post\" novalidate=\"\"><div _ngcontent-sc74=\"\" class=\"form-group\"><label _ngcontent-sc74=\"\" for=\"uname\">Username</label><input _ngcontent-sc74=\"\" class=\"form-control ng-untouched ng-pristine ng-invalid\" id=\"signupUserName\" maxlength=\"10\" minlength=\"4\" name=\"signupUserName\" ngmodel=\"\" pattern=\"[a-zA-Z0-9_ ]*\" placeholder=\"Enter your username\" required=\"\" type=\"text\" value=\"\"/><!-- --><small _ngcontent-sc74=\"\" class=\"form-text text-muted px-1\" id=\"unamehelp\"> Your unique username must 4 - 10 characters (only lowecase letters, numbers &amp; underscores allowed) with no spaces </small></div><div _ngcontent-sc74=\"\" class=\"form-group\"><label _ngcontent-sc74=\"\" for=\"signupName\">Name</label><input _ngcontent-sc74=\"\" class=\"form-control ng-untouched ng-pristine ng-valid\" id=\"signupName\" maxlength=\"30\" name=\"signupName\" ngmodel=\"\" placeholder=\"Enter your Name\" type=\"text\" value=\"\"/></div><div _ngcontent-sc74=\"\" class=\"form-group\"><label _ngcontent-sc74=\"\" for=\"email\">Your Email</label><div _ngcontent-sc74=\"\" class=\"mx-0\"><div _ngcontent-sc74=\"\" class=\"col-md-8 px-0\"><input _ngcontent-sc74=\"\" class=\"form-control ng-untouched ng-pristine ng-invalid\" email=\"\" id=\"signupEmail\" maxlength=\"40\" name=\"signupEmail\" placeholder=\"Enter your Email\" required=\"\" type=\"email\" value=\"\"/><!-- --><!-- --></div><div _ngcontent-sc74=\"\" class=\"col-md-4 my-1 px-0\"><button _ngcontent-sc74=\"\" class=\"btn btn-danger btn-sm mt-2\" disabled=\"\" id=\"otpbtn\" type=\"button\"><!-- --> Send OTP</button></div></div></div><div _ngcontent-sc74=\"\" class=\"form-group\"><label _ngcontent-sc74=\"\" for=\"otp\">Enter OTP</label><input _ngcontent-sc74=\"\" class=\"form-control ng-untouched ng-pristine ng-invalid\" id=\"signupOTP\" name=\"signupOTP\" ngmodel=\"\" placeholder=\"Enter OTP\" required=\"\" type=\"number\" value=\"\"/></div><div _ngcontent-sc74=\"\" class=\"form-group\"><label _ngcontent-sc74=\"\" for=\"signupPassword1\">Choose a password (At least 4 characters)</label><input _ngcontent-sc74=\"\" class=\"form-control ng-untouched ng-pristine ng-valid\" id=\"signupPassword1\" maxlength=\"20\" minlength=\"4\" name=\"signupPassword1\" ngmodel=\"\" placeholder=\"Choose a password\" type=\"password\" value=\"\"/></div><div _ngcontent-sc74=\"\" class=\"form-group mb-0\"><label _ngcontent-sc74=\"\" for=\"signupPassword2\">Retype your password</label><input _ngcontent-sc74=\"\" class=\"form-control ng-untouched ng-pristine ng-valid\" id=\"signupPassword2\" maxlength=\"20\" minlength=\"4\" name=\"signupPassword2\" ngmodel=\"\" placeholder=\"Retype your password\" type=\"password\" value=\"\"/></div><!-- --><!-- --><!-- --><!-- --><button _ngcontent-sc74=\"\" class=\"btn btn-danger mt-4\" disabled=\"\" type=\"submit\"><!-- --> SignUp</button></form></div><div _ngcontent-sc74=\"\" class=\"modal-footer\"><button _ngcontent-sc74=\"\" class=\"btn btn-secondary\" data-dismiss=\"modal\" type=\"button\">Close</button></div></div></div></div></app-header><div _ngcontent-sc76=\"\" class=\"content\"><router-outlet _ngcontent-sc76=\"\"></router-outlet><app-homepage _nghost-sc67=\"\"><section _ngcontent-sc67=\"\" class=\"jumbotron text-center\"><div _ngcontent-sc67=\"\" class=\"container\"><img _ngcontent-sc67=\"\" alt=\"logo\" src=\"../../../assets/img/logo.png\" width=\"120\"/><h1 _ngcontent-sc67=\"\" class=\"jumbotron-heading\"><span _ngcontent-sc67=\"\" id=\"typed\"></span></h1><p _ngcontent-sc67=\"\" class=\"lead text-muted\">Confused on which course to take? I have got you covered. Browse courses and find out the best course for you. Its free!<br _ngcontent-sc67=\"\"/>Code With Harry is my attempt to teach basics and those coding techniques to people in short time which took me ages to learn.</p><p _ngcontent-sc67=\"\"><a _ngcontent-sc67=\"\" class=\"btn btn-danger my-2\" href=\"/blog\" routerlink=\"/blog\">Browse Blog</a><a _ngcontent-sc67=\"\" class=\"btn btn-success my-2\" href=\"/videos\" routerlink=\"/videos\">Browse Video Tutorials</a><a _ngcontent-sc67=\"\" class=\"btn btn-primary my-2\" href=\"/contact\" routerlink=\"/contact\">Contact Me</a></p></div></section><div _ngcontent-sc67=\"\" class=\"container\"><div _ngcontent-sc67=\"\" class=\"row\"><div _ngcontent-sc67=\"\" class=\"card mx-auto my-2 p-2 align-items-center\" style=\"width: 18rem;\"><img _ngcontent-sc67=\"\" alt=\"...\" class=\"padded card-img-top\" src=\"../../../assets/img/home-img-1.jpg\"/><div _ngcontent-sc67=\"\" class=\"card-body\"><h5 _ngcontent-sc67=\"\" class=\"card-title text-center\">Free Video Courses</h5><p _ngcontent-sc67=\"\" class=\"card-text text-center\">Get your programming career started with these free video courses. Source code is available with all the videos for amazing learning experience</p><a _ngcontent-sc67=\"\" class=\"btn btn-primary d-block\" href=\"/videos\" routerlink=\"/videos\">Browse Video Courses</a></div></div><div _ngcontent-sc67=\"\" class=\"card mx-auto my-2 p-2 align-items-center\" style=\"width: 18rem;\"><img _ngcontent-sc67=\"\" alt=\"...\" class=\"padded card-img-top\" src=\"../../../assets/img/home-img-2.jpg\"/><div _ngcontent-sc67=\"\" class=\"card-body\"><h5 _ngcontent-sc67=\"\" class=\"card-title text-center\">Coding Articles</h5><p _ngcontent-sc67=\"\" class=\"card-text text-center\">Some of the latest coding information compiled in the form of coding articles. Keep your programming knowledge up to date with these articles.</p><a _ngcontent-sc67=\"\" class=\"btn btn-primary d-block\" href=\"/blog\" routerlink=\"/blog\">Go to Blog</a></div></div><div _ngcontent-sc67=\"\" class=\"card mx-auto my-2 p-2 align-items-center\" style=\"width: 18rem;\"><img _ngcontent-sc67=\"\" alt=\"...\" class=\"padded card-img-top\" src=\"../../../assets/img/home-img-3.jpg\"/><div _ngcontent-sc67=\"\" class=\"card-body\"><h5 _ngcontent-sc67=\"\" class=\"card-title text-center\">Contact Me</h5><p _ngcontent-sc67=\"\" class=\"card-text text-center\">Learn programming from these free courses. Examples are available with these tutorials. You can contact me for any doubt and I will get back to you!</p><a _ngcontent-sc67=\"\" class=\"btn btn-primary d-block\" href=\"/contact\" routerlink=\"/contact\">Contact Me</a></div></div></div></div></app-homepage><!-- --></div><app-footer _ngcontent-sc76=\"\" _nghost-sc75=\"\"><footer _ngcontent-sc75=\"\" class=\"container-fluid bg-dark my-0 py-3 text-light\"><p _ngcontent-sc75=\"\" class=\"mb-0 text-center\">Copyright © 2020-2021 CodeWithHarry.com</p></footer></app-footer></app-root>\n",
      "<script defer=\"\" src=\"runtime.7b63b9fd40098a2e8207.js\"></script><script defer=\"\" src=\"polyfills.00096ed7d93ed26ee6df.js\"></script><script defer=\"\" src=\"scripts.2558b03aa1b9660ed84d.js\"></script><script defer=\"\" src=\"main.bd8a3a7a366ac101c3dc.js\"></script>\n",
      "<script id=\"serverApp-state\" type=\"application/json\">{}</script></body><!-- This page was prerendered with Angular Universal --></html>>\n"
     ]
    }
   ],
   "source": [
    "# print(soup.prettify)\n"
   ]
  },
  {
   "cell_type": "code",
   "execution_count": 7,
   "id": "f292819e-c5a2-4538-ab58-eaf423a2776a",
   "metadata": {},
   "outputs": [
    {
     "name": "stdout",
     "output_type": "stream",
     "text": [
      "<title>Home - CodeWithHarry</title>\n"
     ]
    }
   ],
   "source": [
    "## title \n",
    "\n",
    "title = soup.title\n",
    "print(title)"
   ]
  },
  {
   "cell_type": "code",
   "execution_count": 9,
   "id": "a8d4db16-f458-43e0-8cb0-2e7d7ca025ba",
   "metadata": {},
   "outputs": [
    {
     "name": "stdout",
     "output_type": "stream",
     "text": [
      "Confused on which course to take? I have got you covered. Browse courses and find out the best course for you. Its free!Code With Harry is my attempt to teach basics and those coding techniques to people in short time which took me ages to learn.\n"
     ]
    }
   ],
   "source": [
    "# first paragraph\n",
    "paragraph = soup.find('p')\n",
    "print(paragraph.get_text())"
   ]
  },
  {
   "cell_type": "code",
   "execution_count": 16,
   "id": "2400eb0f-68d8-4ce8-a62b-132bf7a33afc",
   "metadata": {},
   "outputs": [
    {
     "name": "stdout",
     "output_type": "stream",
     "text": [
      "[<p _ngcontent-sc67=\"\" class=\"lead text-muted\">Confused on which course to take? I have got you covered. Browse courses and find out the best course for you. Its free!<br _ngcontent-sc67=\"\"/>Code With Harry is my attempt to teach basics and those coding techniques to people in short time which took me ages to learn.</p>, <p _ngcontent-sc67=\"\"><a _ngcontent-sc67=\"\" class=\"btn btn-danger my-2\" href=\"/blog\" routerlink=\"/blog\">Browse Blog</a><a _ngcontent-sc67=\"\" class=\"btn btn-success my-2\" href=\"/videos\" routerlink=\"/videos\">Browse Video Tutorials</a><a _ngcontent-sc67=\"\" class=\"btn btn-primary my-2\" href=\"/contact\" routerlink=\"/contact\">Contact Me</a></p>, <p _ngcontent-sc67=\"\" class=\"card-text text-center\">Get your programming career started with these free video courses. Source code is available with all the videos for amazing learning experience</p>, <p _ngcontent-sc67=\"\" class=\"card-text text-center\">Some of the latest coding information compiled in the form of coding articles. Keep your programming knowledge up to date with these articles.</p>, <p _ngcontent-sc67=\"\" class=\"card-text text-center\">Learn programming from these free courses. Examples are available with these tutorials. You can contact me for any doubt and I will get back to you!</p>, <p _ngcontent-sc75=\"\" class=\"mb-0 text-center\">Copyright © 2020-2021 CodeWithHarry.com</p>]\n",
      "paragraph \n",
      " Confused on which course to take? I have got you covered. Browse courses and find out the best course for you. Its free!Code With Harry is my attempt to teach basics and those coding techniques to people in short time which took me ages to learn.\n",
      "paragraph \n",
      " Browse BlogBrowse Video TutorialsContact Me\n",
      "paragraph \n",
      " Get your programming career started with these free video courses. Source code is available with all the videos for amazing learning experience\n",
      "paragraph \n",
      " Some of the latest coding information compiled in the form of coding articles. Keep your programming knowledge up to date with these articles.\n",
      "paragraph \n",
      " Learn programming from these free courses. Examples are available with these tutorials. You can contact me for any doubt and I will get back to you!\n",
      "paragraph \n",
      " Copyright © 2020-2021 CodeWithHarry.com\n"
     ]
    }
   ],
   "source": [
    "# All paragraph\n",
    "paragraph = soup.find_all('p')\n",
    "print(paragraph)\n",
    "for i in paragraph:\n",
    "    print(\"paragraph \\n\" ,i.get_text())"
   ]
  },
  {
   "cell_type": "code",
   "execution_count": 18,
   "id": "436b3c1a-4a49-43b1-ba0b-de5f116f31f0",
   "metadata": {},
   "outputs": [
    {
     "data": {
      "text/plain": [
       "True"
      ]
     },
     "execution_count": 18,
     "metadata": {},
     "output_type": "execute_result"
    }
   ],
   "source": [
    "# Checking given object is iteratorable or not\n",
    "\n",
    "import collections\n",
    "isinstance(paragraph, collections.Iterable)"
   ]
  },
  {
   "cell_type": "code",
   "execution_count": 21,
   "id": "fb7edcf3-9ffe-4866-b827-4295f57a2a8f",
   "metadata": {},
   "outputs": [
    {
     "name": "stdout",
     "output_type": "stream",
     "text": [
      "Classs element  :  ['lead', 'text-muted']\n"
     ]
    }
   ],
   "source": [
    "## gettin the class element\n",
    "\n",
    "class_element = soup.find(\"p\")['class']\n",
    "\n",
    "print(\"Classs element  : \",class_element)"
   ]
  },
  {
   "cell_type": "code",
   "execution_count": 26,
   "id": "9c2ac036-273f-4deb-8e90-54e47f276774",
   "metadata": {},
   "outputs": [
    {
     "ename": "TypeError",
     "evalue": "list indices must be integers or slices, not str",
     "output_type": "error",
     "traceback": [
      "\u001b[0;31m---------------------------------------------------------------------------\u001b[0m",
      "\u001b[0;31mTypeError\u001b[0m                                 Traceback (most recent call last)",
      "\u001b[0;32m<ipython-input-26-81ae24e6de17>\u001b[0m in \u001b[0;36m<module>\u001b[0;34m\u001b[0m\n\u001b[1;32m      1\u001b[0m \u001b[0;31m## gettin the ID element\u001b[0m\u001b[0;34m\u001b[0m\u001b[0;34m\u001b[0m\u001b[0;34m\u001b[0m\u001b[0m\n\u001b[1;32m      2\u001b[0m \u001b[0;34m\u001b[0m\u001b[0m\n\u001b[0;32m----> 3\u001b[0;31m \u001b[0mID_element\u001b[0m \u001b[0;34m=\u001b[0m \u001b[0msoup\u001b[0m\u001b[0;34m.\u001b[0m\u001b[0mfind_all\u001b[0m\u001b[0;34m(\u001b[0m\u001b[0;34m\"p\"\u001b[0m\u001b[0;34m)\u001b[0m\u001b[0;34m[\u001b[0m\u001b[0;34m'id'\u001b[0m\u001b[0;34m]\u001b[0m\u001b[0;34m\u001b[0m\u001b[0;34m\u001b[0m\u001b[0m\n\u001b[0m\u001b[1;32m      4\u001b[0m \u001b[0;34m\u001b[0m\u001b[0m\n\u001b[1;32m      5\u001b[0m \u001b[0mprint\u001b[0m\u001b[0;34m(\u001b[0m\u001b[0mcollections\u001b[0m\u001b[0;34m(\u001b[0m\u001b[0mID_element\u001b[0m\u001b[0;34m,\u001b[0m\u001b[0mcollections\u001b[0m\u001b[0;34m.\u001b[0m\u001b[0mIterable\u001b[0m\u001b[0;34m)\u001b[0m\u001b[0;34m)\u001b[0m\u001b[0;34m\u001b[0m\u001b[0;34m\u001b[0m\u001b[0m\n",
      "\u001b[0;31mTypeError\u001b[0m: list indices must be integers or slices, not str"
     ]
    }
   ],
   "source": [
    "## gettin the ID element\n",
    "\n",
    "ID_element = soup.find_all(\"p\")['id']\n",
    "\n",
    "print(collections(ID_element,collections.Iterable))\n",
    "# print(\"Classs element  : \",ID_elemen)\n",
    "\n",
    "# because there is no id that return the keyerror"
   ]
  },
  {
   "cell_type": "code",
   "execution_count": 29,
   "id": "4a4cf9f2-1257-4f3e-8ccb-84fa868c6bb0",
   "metadata": {},
   "outputs": [
    {
     "name": "stdout",
     "output_type": "stream",
     "text": [
      "Confused on which course to take? I have got you covered. Browse courses and find out the best course for you. Its free!Code With Harry is my attempt to teach basics and those coding techniques to people in short time which took me ages to learn.\n",
      "\n"
     ]
    }
   ],
   "source": [
    "## find the element to class name\n",
    "\n",
    "class_element = soup.find_all('p',class_= 'lead')\n",
    "\n",
    "for i in class_element:\n",
    "    print(i.get_text() + \"\\n\")\n",
    "    "
   ]
  },
  {
   "cell_type": "code",
   "execution_count": 30,
   "id": "1a668507-960b-49ca-b9e4-01f4cb8f3253",
   "metadata": {},
   "outputs": [
    {
     "name": "stdout",
     "output_type": "stream",
     "text": [
      "[]\n"
     ]
    }
   ],
   "source": [
    "print(soup.find_all(class_='code-toolbar'))"
   ]
  },
  {
   "cell_type": "code",
   "execution_count": 32,
   "id": "37db57ce-7e47-4480-901c-9acef417ddf5",
   "metadata": {},
   "outputs": [
    {
     "name": "stdout",
     "output_type": "stream",
     "text": [
      "None\n"
     ]
    }
   ],
   "source": [
    "## find to id element\n",
    "\n",
    "id_element = soup.find(id='qna')\n",
    "print(id_element) # due to no present\n",
    "\n"
   ]
  },
  {
   "cell_type": "code",
   "execution_count": 41,
   "id": "0fd95cd9-d38d-41fa-bfc2-d93f2e24ef2f",
   "metadata": {},
   "outputs": [
    {
     "ename": "AttributeError",
     "evalue": "'NoneType' object has no attribute 'get_text'",
     "output_type": "error",
     "traceback": [
      "\u001b[0;31m---------------------------------------------------------------------------\u001b[0m",
      "\u001b[0;31mAttributeError\u001b[0m                            Traceback (most recent call last)",
      "\u001b[0;32m<ipython-input-41-83a81aa3b14f>\u001b[0m in \u001b[0;36m<module>\u001b[0;34m\u001b[0m\n\u001b[1;32m      1\u001b[0m \u001b[0melement\u001b[0m \u001b[0;34m=\u001b[0m \u001b[0msoup\u001b[0m\u001b[0;34m.\u001b[0m\u001b[0mfind\u001b[0m\u001b[0;34m(\u001b[0m\u001b[0;34m'element'\u001b[0m\u001b[0;34m)\u001b[0m\u001b[0;34m\u001b[0m\u001b[0;34m\u001b[0m\u001b[0m\n\u001b[0;32m----> 2\u001b[0;31m \u001b[0mprint\u001b[0m\u001b[0;34m(\u001b[0m\u001b[0melement\u001b[0m\u001b[0;34m.\u001b[0m\u001b[0mget_text\u001b[0m\u001b[0;34m(\u001b[0m\u001b[0;34m)\u001b[0m\u001b[0;34m)\u001b[0m\u001b[0;34m\u001b[0m\u001b[0;34m\u001b[0m\u001b[0m\n\u001b[0m",
      "\u001b[0;31mAttributeError\u001b[0m: 'NoneType' object has no attribute 'get_text'"
     ]
    }
   ],
   "source": [
    "element = soup.find('element')\n",
    "print(element.get_text())"
   ]
  },
  {
   "cell_type": "code",
   "execution_count": 52,
   "id": "1ef1136f-c741-4b88-bf73-731a993618bd",
   "metadata": {},
   "outputs": [
    {
     "name": "stdout",
     "output_type": "stream",
     "text": [
      "{'https://iffishells.wordpress.com/Contact Me', 'https://iffishells.wordpress.com/Browse Video Tutorials', 'https://iffishells.wordpress.com/Go to Blog', 'https://iffishells.wordpress.com/Home', 'https://iffishells.wordpress.com/', 'https://iffishells.wordpress.com/Videos', 'https://iffishells.wordpress.com/Browse Blog', 'https://iffishells.wordpress.com/Blog', 'https://iffishells.wordpress.com/Browse Video Courses'}\n"
     ]
    }
   ],
   "source": [
    "anchors =  soup.find_all('a')\n",
    "all_link = set()\n",
    "for i in anchors:\n",
    "    all_link.add(\"https://iffishells.wordpress.com/\" + i.get_text().strip())\n",
    "                 \n",
    "print(all_link)"
   ]
  },
  {
   "cell_type": "code",
   "execution_count": 56,
   "id": "44779fb7-6444-4cd6-b7a8-ac8968a0a8e0",
   "metadata": {},
   "outputs": [
    {
     "name": "stdout",
     "output_type": "stream",
     "text": [
      "Home\n",
      "Videos\n",
      "Blog\n",
      "Contact Me\n"
     ]
    }
   ],
   "source": [
    "element_ul = soup.find('ul')\n",
    "\n",
    "for ele in element_ul:\n",
    "    print(ele.get_text())"
   ]
  },
  {
   "cell_type": "code",
   "execution_count": 61,
   "id": "31705717-9b58-4734-a3ad-3463a2289f72",
   "metadata": {},
   "outputs": [
    {
     "name": "stdout",
     "output_type": "stream",
     "text": [
      "Home\n",
      "Videos\n",
      "Blog\n",
      "Contact Me\n"
     ]
    }
   ],
   "source": [
    "## iterate oiver the children\n",
    "\n",
    "ul  = soup.find('ul')\n",
    "\n",
    "for ele in ul.children:\n",
    "    print(ele.get_text())"
   ]
  },
  {
   "cell_type": "code",
   "execution_count": 66,
   "id": "2862a4c9-f527-42e5-9ff6-39aedd5c5251",
   "metadata": {},
   "outputs": [
    {
     "name": "stdout",
     "output_type": "stream",
     "text": [
      "HomeVideosBlogContact Me\n",
      "Search\n",
      "LoginSignUp\n"
     ]
    },
    {
     "ename": "AttributeError",
     "evalue": "'Comment' object has no attribute 'get_text'",
     "output_type": "error",
     "traceback": [
      "\u001b[0;31m---------------------------------------------------------------------------\u001b[0m",
      "\u001b[0;31mAttributeError\u001b[0m                            Traceback (most recent call last)",
      "\u001b[0;32m<ipython-input-66-654da1ce3988>\u001b[0m in \u001b[0;36m<module>\u001b[0;34m\u001b[0m\n\u001b[1;32m      3\u001b[0m \u001b[0;34m\u001b[0m\u001b[0m\n\u001b[1;32m      4\u001b[0m \u001b[0;32mfor\u001b[0m \u001b[0mele\u001b[0m \u001b[0;32min\u001b[0m \u001b[0mparent_of_ul\u001b[0m\u001b[0;34m.\u001b[0m\u001b[0mparent\u001b[0m\u001b[0;34m:\u001b[0m\u001b[0;34m\u001b[0m\u001b[0;34m\u001b[0m\u001b[0m\n\u001b[0;32m----> 5\u001b[0;31m     \u001b[0mprint\u001b[0m\u001b[0;34m(\u001b[0m\u001b[0mele\u001b[0m\u001b[0;34m.\u001b[0m\u001b[0mget_text\u001b[0m\u001b[0;34m(\u001b[0m\u001b[0;34m)\u001b[0m\u001b[0;34m)\u001b[0m\u001b[0;34m\u001b[0m\u001b[0;34m\u001b[0m\u001b[0m\n\u001b[0m",
      "\u001b[0;32m~/anaconda3/lib/python3.8/site-packages/bs4/element.py\u001b[0m in \u001b[0;36m__getattr__\u001b[0;34m(self, attr)\u001b[0m\n\u001b[1;32m    919\u001b[0m             \u001b[0;32mreturn\u001b[0m \u001b[0mself\u001b[0m\u001b[0;34m\u001b[0m\u001b[0;34m\u001b[0m\u001b[0m\n\u001b[1;32m    920\u001b[0m         \u001b[0;32melse\u001b[0m\u001b[0;34m:\u001b[0m\u001b[0;34m\u001b[0m\u001b[0;34m\u001b[0m\u001b[0m\n\u001b[0;32m--> 921\u001b[0;31m             raise AttributeError(\n\u001b[0m\u001b[1;32m    922\u001b[0m                 \"'%s' object has no attribute '%s'\" % (\n\u001b[1;32m    923\u001b[0m                     self.__class__.__name__, attr))\n",
      "\u001b[0;31mAttributeError\u001b[0m: 'Comment' object has no attribute 'get_text'"
     ]
    }
   ],
   "source": [
    "parent_of_ul = soup.find('ul')\n",
    "# print(parent_of_ul)\n",
    "\n",
    "for ele in parent_of_ul.parent:\n",
    "    print(ele.get_text())"
   ]
  },
  {
   "cell_type": "code",
   "execution_count": 71,
   "id": "5dd789f6-a312-4b14-aa0d-59d500454f7f",
   "metadata": {},
   "outputs": [
    {
     "name": "stdout",
     "output_type": "stream",
     "text": [
      "Search\n"
     ]
    }
   ],
   "source": [
    "ul = soup.find('ul')\n",
    "\n",
    "elem = ul.next_sibling\n",
    "print(elem.get_text())"
   ]
  },
  {
   "cell_type": "code",
   "execution_count": null,
   "id": "a065b39d-789f-45c1-9e06-be227574e93a",
   "metadata": {},
   "outputs": [],
   "source": []
  }
 ],
 "metadata": {
  "interpreter": {
   "hash": "916dbcbb3f70747c44a77c7bcd40155683ae19c65e1c03b4aa3499c5328201f1"
  },
  "kernelspec": {
   "display_name": "Python 3.8.10 64-bit",
   "name": "python3"
  },
  "language_info": {
   "codemirror_mode": {
    "name": "ipython",
    "version": 3
   },
   "file_extension": ".py",
   "mimetype": "text/x-python",
   "name": "python",
   "nbconvert_exporter": "python",
   "pygments_lexer": "ipython3",
   "version": "3.8.10"
  }
 },
 "nbformat": 4,
 "nbformat_minor": 5
}
