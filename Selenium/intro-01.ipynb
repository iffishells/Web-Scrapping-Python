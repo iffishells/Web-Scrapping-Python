{
 "cells": [
  {
   "cell_type": "code",
   "execution_count": 20,
   "id": "8709d823-bb1c-44ac-bf5e-a3fd69e53aee",
   "metadata": {},
   "outputs": [],
   "source": [
    "# !pip install selenium # installaton"
   ]
  },
  {
   "cell_type": "code",
   "execution_count": 35,
   "id": "ae3fb9ca-5605-4403-901b-bec56973c804",
   "metadata": {},
   "outputs": [],
   "source": [
    "from selenium import webdriver # for automation of web browers\n",
    "import os\n",
    "from selenium.webdriver.common.by import By\n",
    "from selenium.webdriver.support.ui import WebDriverWait\n",
    "from selenium.webdriver.support import expected_conditions as EC"
   ]
  },
  {
   "cell_type": "markdown",
   "id": "2d61bfff-427d-4f70-be86-ec3c685cd063",
   "metadata": {},
   "source": [
    "# Basic and Foundation"
   ]
  },
  {
   "cell_type": "code",
   "execution_count": 46,
   "id": "2f4a0570-5100-49ca-b025-8596b22660dd",
   "metadata": {},
   "outputs": [
    {
     "data": {
      "text/plain": [
       "True"
      ]
     },
     "execution_count": 46,
     "metadata": {},
     "output_type": "execute_result"
    }
   ],
   "source": [
    "driver = webdriver.Firefox(executable_path='/home/iffishells/.config/sublime-text-3/Local/geckodriver')\n",
    "\n",
    "\n",
    "driver.get(\"https://www.seleniumeasy.com/test/jquery-download-progress-bar-demo.html\") #loading site\n",
    "\n",
    "driver.implicitly_wait(1) #time sleep\n",
    "my_element = driver.find_element_by_id('downloadButton')\n",
    "my_element.click()\n"
   ]
  },
  {
   "cell_type": "markdown",
   "id": "eafb5858-87f9-4778-b6a2-f927ffcf9c8d",
   "metadata": {},
   "source": [
    "# Explicit and implicit"
   ]
  },
  {
   "cell_type": "code",
   "execution_count": null,
   "id": "621c82a3-5d5f-44c6-bca6-56546643b112",
   "metadata": {},
   "outputs": [],
   "source": [
    "driver = webdriver.Firefox(executable_path='/home/iffishells/.config/sublime-text-3/Local/geckodriver')\n",
    "\n",
    "\n",
    "driver.get(\"https://www.seleniumeasy.com/test/jquery-download-progress-bar-demo.html\") #loading site\n",
    "\n",
    "driver.implicitly_wait(1) #time sleep\n",
    "my_element = driver.find_element_by_id('downloadButton')\n",
    "my_element.click()\n",
    "\n",
    "\n",
    "WebDriverWait(driver,30).until(\n",
    "    EC.text_to_be_present_in_element(\n",
    "    (By.CLASS_NAME , 'progress-label'), # filteration of element\n",
    "     'Complete!'   # the expected texxt\n",
    "    )\n",
    ")"
   ]
  }
 ],
 "metadata": {
  "kernelspec": {
   "display_name": "Python 3 (ipykernel)",
   "language": "python",
   "name": "python3"
  },
  "language_info": {
   "codemirror_mode": {
    "name": "ipython",
    "version": 3
   },
   "file_extension": ".py",
   "mimetype": "text/x-python",
   "name": "python",
   "nbconvert_exporter": "python",
   "pygments_lexer": "ipython3",
   "version": "3.8.11"
  }
 },
 "nbformat": 4,
 "nbformat_minor": 5
}
